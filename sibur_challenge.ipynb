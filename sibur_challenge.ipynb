{
  "nbformat": 4,
  "nbformat_minor": 0,
  "metadata": {
    "kernelspec": {
      "language": "python",
      "display_name": "Python 3",
      "name": "python3"
    },
    "language_info": {
      "name": "python",
      "version": "3.7.12",
      "mimetype": "text/x-python",
      "codemirror_mode": {
        "name": "ipython",
        "version": 3
      },
      "pygments_lexer": "ipython3",
      "nbconvert_exporter": "python",
      "file_extension": ".py"
    },
    "colab": {
      "name": "[SC2021]_Baseline_ast.ipynb",
      "provenance": [],
      "collapsed_sections": [
        "E6lqk7io3W1Y",
        "qX28_NRiuzI4",
        "67x8yp826J0R",
        "DDPm2nWdIF3m",
        "IZsVYtej17ZV",
        "UVgcBDC0oyyF",
        "zolz8zcN3W1Z"
      ]
    },
    "accelerator": "GPU"
  },
  "cells": [
    {
      "cell_type": "code",
      "metadata": {
        "id": "404sI2v53W09",
        "execution": {
          "iopub.status.busy": "2021-12-03T06:19:06.586149Z",
          "iopub.execute_input": "2021-12-03T06:19:06.586477Z",
          "iopub.status.idle": "2021-12-03T06:19:06.622300Z",
          "shell.execute_reply.started": "2021-12-03T06:19:06.586392Z",
          "shell.execute_reply": "2021-12-03T06:19:06.621578Z"
        },
        "trusted": true,
        "colab": {
          "base_uri": "https://localhost:8080/"
        },
        "outputId": "25646399-2115-4865-e818-e394afb63db9"
      },
      "source": [
        "%pylab inline\n",
        "plt.style.use(\"bmh\")"
      ],
      "execution_count": 1,
      "outputs": [
        {
          "output_type": "stream",
          "name": "stdout",
          "text": [
            "Populating the interactive namespace from numpy and matplotlib\n"
          ]
        }
      ]
    },
    {
      "cell_type": "code",
      "metadata": {
        "id": "e8abTUtFaZlH",
        "execution": {
          "iopub.status.busy": "2021-12-03T06:19:07.298488Z",
          "iopub.execute_input": "2021-12-03T06:19:07.298747Z",
          "iopub.status.idle": "2021-12-03T06:19:35.622329Z",
          "shell.execute_reply.started": "2021-12-03T06:19:07.298715Z",
          "shell.execute_reply": "2021-12-03T06:19:35.621523Z"
        },
        "trusted": true,
        "colab": {
          "base_uri": "https://localhost:8080/"
        },
        "outputId": "854d4c4d-e79e-4d79-c4dc-d07b937a17cc"
      },
      "source": [
        "!pip install catboost"
      ],
      "execution_count": 2,
      "outputs": [
        {
          "output_type": "stream",
          "name": "stdout",
          "text": [
            "Collecting catboost\n",
            "  Downloading catboost-1.0.3-cp37-none-manylinux1_x86_64.whl (76.3 MB)\n",
            "\u001b[K     |████████████████████████████████| 76.3 MB 1.2 MB/s \n",
            "\u001b[?25hRequirement already satisfied: scipy in /usr/local/lib/python3.7/dist-packages (from catboost) (1.4.1)\n",
            "Requirement already satisfied: six in /usr/local/lib/python3.7/dist-packages (from catboost) (1.15.0)\n",
            "Requirement already satisfied: graphviz in /usr/local/lib/python3.7/dist-packages (from catboost) (0.10.1)\n",
            "Requirement already satisfied: pandas>=0.24.0 in /usr/local/lib/python3.7/dist-packages (from catboost) (1.1.5)\n",
            "Requirement already satisfied: numpy>=1.16.0 in /usr/local/lib/python3.7/dist-packages (from catboost) (1.19.5)\n",
            "Requirement already satisfied: plotly in /usr/local/lib/python3.7/dist-packages (from catboost) (4.4.1)\n",
            "Requirement already satisfied: matplotlib in /usr/local/lib/python3.7/dist-packages (from catboost) (3.2.2)\n",
            "Requirement already satisfied: pytz>=2017.2 in /usr/local/lib/python3.7/dist-packages (from pandas>=0.24.0->catboost) (2018.9)\n",
            "Requirement already satisfied: python-dateutil>=2.7.3 in /usr/local/lib/python3.7/dist-packages (from pandas>=0.24.0->catboost) (2.8.2)\n",
            "Requirement already satisfied: kiwisolver>=1.0.1 in /usr/local/lib/python3.7/dist-packages (from matplotlib->catboost) (1.3.2)\n",
            "Requirement already satisfied: pyparsing!=2.0.4,!=2.1.2,!=2.1.6,>=2.0.1 in /usr/local/lib/python3.7/dist-packages (from matplotlib->catboost) (3.0.6)\n",
            "Requirement already satisfied: cycler>=0.10 in /usr/local/lib/python3.7/dist-packages (from matplotlib->catboost) (0.11.0)\n",
            "Requirement already satisfied: retrying>=1.3.3 in /usr/local/lib/python3.7/dist-packages (from plotly->catboost) (1.3.3)\n",
            "Installing collected packages: catboost\n",
            "Successfully installed catboost-1.0.3\n"
          ]
        }
      ]
    },
    {
      "cell_type": "code",
      "metadata": {
        "id": "3r8qh9Tf3W1C",
        "execution": {
          "iopub.status.busy": "2021-12-03T06:48:37.151650Z",
          "iopub.execute_input": "2021-12-03T06:48:37.151928Z",
          "iopub.status.idle": "2021-12-03T06:48:37.158302Z",
          "shell.execute_reply.started": "2021-12-03T06:48:37.151896Z",
          "shell.execute_reply": "2021-12-03T06:48:37.157353Z"
        },
        "trusted": true
      },
      "source": [
        "import pathlib\n",
        "import pandas as pd\n",
        "from sklearn.metrics import mean_squared_log_error, mean_squared_error"
      ],
      "execution_count": 3,
      "outputs": []
    },
    {
      "cell_type": "code",
      "metadata": {
        "id": "0bOLQnq03W1D",
        "execution": {
          "iopub.status.busy": "2021-12-03T06:19:36.451958Z",
          "iopub.execute_input": "2021-12-03T06:19:36.452272Z",
          "iopub.status.idle": "2021-12-03T06:19:36.457185Z",
          "shell.execute_reply.started": "2021-12-03T06:19:36.452235Z",
          "shell.execute_reply": "2021-12-03T06:19:36.456291Z"
        },
        "trusted": true
      },
      "source": [
        "DATA_FILE = \"/content/drive/MyDrive/datasets/sc2021_train_deals.csv\"\n",
        "AGG_COLS = [\"material_code\", \"company_code\", \"country\", \"region\", \"manager_code\"]\n",
        "RS = 79736"
      ],
      "execution_count": 4,
      "outputs": []
    },
    {
      "cell_type": "markdown",
      "metadata": {
        "id": "PeFPEpIN3W1D"
      },
      "source": [
        "# Загрузка данных"
      ]
    },
    {
      "cell_type": "code",
      "metadata": {
        "id": "Zh2GhdWDoVWP",
        "execution": {
          "iopub.status.busy": "2021-12-03T06:19:36.458887Z",
          "iopub.execute_input": "2021-12-03T06:19:36.459395Z",
          "iopub.status.idle": "2021-12-03T06:19:36.471117Z",
          "shell.execute_reply.started": "2021-12-03T06:19:36.459358Z",
          "shell.execute_reply": "2021-12-03T06:19:36.470288Z"
        },
        "trusted": true,
        "colab": {
          "base_uri": "https://localhost:8080/"
        },
        "outputId": "7f28772c-840d-49b8-a891-39ab88958953"
      },
      "source": [
        "from google.colab import drive\n",
        "drive.mount('/content/drive')"
      ],
      "execution_count": 5,
      "outputs": [
        {
          "output_type": "stream",
          "name": "stdout",
          "text": [
            "Mounted at /content/drive\n"
          ]
        }
      ]
    },
    {
      "cell_type": "code",
      "metadata": {
        "id": "an7oLdFa3W1I",
        "execution": {
          "iopub.status.busy": "2021-12-03T06:19:36.858619Z",
          "iopub.execute_input": "2021-12-03T06:19:36.858892Z",
          "iopub.status.idle": "2021-12-03T06:19:36.880438Z",
          "shell.execute_reply.started": "2021-12-03T06:19:36.858838Z",
          "shell.execute_reply": "2021-12-03T06:19:36.879713Z"
        },
        "trusted": true
      },
      "source": [
        "data = pd.read_csv(DATA_FILE, parse_dates=[\"month\", \"date\"])"
      ],
      "execution_count": 6,
      "outputs": []
    },
    {
      "cell_type": "code",
      "metadata": {
        "colab": {
          "base_uri": "https://localhost:8080/",
          "height": 634
        },
        "id": "8GHbuSD4HCpA",
        "outputId": "78997cda-95ba-45ad-ff60-69fe4259c7b3"
      },
      "source": [
        "data"
      ],
      "execution_count": 7,
      "outputs": [
        {
          "output_type": "execute_result",
          "data": {
            "text/html": [
              "<div>\n",
              "<style scoped>\n",
              "    .dataframe tbody tr th:only-of-type {\n",
              "        vertical-align: middle;\n",
              "    }\n",
              "\n",
              "    .dataframe tbody tr th {\n",
              "        vertical-align: top;\n",
              "    }\n",
              "\n",
              "    .dataframe thead th {\n",
              "        text-align: right;\n",
              "    }\n",
              "</style>\n",
              "<table border=\"1\" class=\"dataframe\">\n",
              "  <thead>\n",
              "    <tr style=\"text-align: right;\">\n",
              "      <th></th>\n",
              "      <th>material_code</th>\n",
              "      <th>company_code</th>\n",
              "      <th>country</th>\n",
              "      <th>region</th>\n",
              "      <th>manager_code</th>\n",
              "      <th>month</th>\n",
              "      <th>material_lvl1_name</th>\n",
              "      <th>material_lvl2_name</th>\n",
              "      <th>material_lvl3_name</th>\n",
              "      <th>contract_type</th>\n",
              "      <th>date</th>\n",
              "      <th>volume</th>\n",
              "    </tr>\n",
              "  </thead>\n",
              "  <tbody>\n",
              "    <tr>\n",
              "      <th>0</th>\n",
              "      <td>134</td>\n",
              "      <td>0</td>\n",
              "      <td>Литва</td>\n",
              "      <td>Литва</td>\n",
              "      <td>12261</td>\n",
              "      <td>2018-01-01</td>\n",
              "      <td>Базовые полимеры</td>\n",
              "      <td>ПЭ</td>\n",
              "      <td>ПЭНП</td>\n",
              "      <td>Спот</td>\n",
              "      <td>2018-01-01</td>\n",
              "      <td>43.0</td>\n",
              "    </tr>\n",
              "    <tr>\n",
              "      <th>1</th>\n",
              "      <td>197</td>\n",
              "      <td>0</td>\n",
              "      <td>Китай</td>\n",
              "      <td>Китай</td>\n",
              "      <td>16350</td>\n",
              "      <td>2018-01-01</td>\n",
              "      <td>Базовые полимеры</td>\n",
              "      <td>ПЭ</td>\n",
              "      <td>ПЭНП</td>\n",
              "      <td>Спот</td>\n",
              "      <td>2018-01-02</td>\n",
              "      <td>95.0</td>\n",
              "    </tr>\n",
              "    <tr>\n",
              "      <th>2</th>\n",
              "      <td>794</td>\n",
              "      <td>2162</td>\n",
              "      <td>Казахстан</td>\n",
              "      <td>Атырауская обл.</td>\n",
              "      <td>10942</td>\n",
              "      <td>2018-01-01</td>\n",
              "      <td>Базовые полимеры</td>\n",
              "      <td>ПП</td>\n",
              "      <td>ПП</td>\n",
              "      <td>Контракт</td>\n",
              "      <td>2018-01-02</td>\n",
              "      <td>57.0</td>\n",
              "    </tr>\n",
              "    <tr>\n",
              "      <th>3</th>\n",
              "      <td>134</td>\n",
              "      <td>0</td>\n",
              "      <td>Литва</td>\n",
              "      <td>Литва</td>\n",
              "      <td>12261</td>\n",
              "      <td>2018-01-01</td>\n",
              "      <td>Базовые полимеры</td>\n",
              "      <td>ПЭ</td>\n",
              "      <td>ПЭНП</td>\n",
              "      <td>Спот</td>\n",
              "      <td>2018-01-02</td>\n",
              "      <td>21.0</td>\n",
              "    </tr>\n",
              "    <tr>\n",
              "      <th>4</th>\n",
              "      <td>133</td>\n",
              "      <td>0</td>\n",
              "      <td>Китай</td>\n",
              "      <td>Китай</td>\n",
              "      <td>17745</td>\n",
              "      <td>2018-01-01</td>\n",
              "      <td>Базовые полимеры</td>\n",
              "      <td>ПЭ</td>\n",
              "      <td>ПЭНП</td>\n",
              "      <td>Спот</td>\n",
              "      <td>2018-01-02</td>\n",
              "      <td>150.0</td>\n",
              "    </tr>\n",
              "    <tr>\n",
              "      <th>...</th>\n",
              "      <td>...</td>\n",
              "      <td>...</td>\n",
              "      <td>...</td>\n",
              "      <td>...</td>\n",
              "      <td>...</td>\n",
              "      <td>...</td>\n",
              "      <td>...</td>\n",
              "      <td>...</td>\n",
              "      <td>...</td>\n",
              "      <td>...</td>\n",
              "      <td>...</td>\n",
              "      <td>...</td>\n",
              "    </tr>\n",
              "    <tr>\n",
              "      <th>92301</th>\n",
              "      <td>134</td>\n",
              "      <td>0</td>\n",
              "      <td>Украина</td>\n",
              "      <td>Украина</td>\n",
              "      <td>18156</td>\n",
              "      <td>2020-07-01</td>\n",
              "      <td>Базовые полимеры</td>\n",
              "      <td>ПЭ</td>\n",
              "      <td>ПЭНП</td>\n",
              "      <td>Спот</td>\n",
              "      <td>2020-07-31</td>\n",
              "      <td>21.0</td>\n",
              "    </tr>\n",
              "    <tr>\n",
              "      <th>92302</th>\n",
              "      <td>486</td>\n",
              "      <td>0</td>\n",
              "      <td>Россия</td>\n",
              "      <td>Ростовская обл.</td>\n",
              "      <td>16156</td>\n",
              "      <td>2020-07-01</td>\n",
              "      <td>Базовые полимеры</td>\n",
              "      <td>ПП</td>\n",
              "      <td>ПП</td>\n",
              "      <td>Спот</td>\n",
              "      <td>2020-07-31</td>\n",
              "      <td>3.0</td>\n",
              "    </tr>\n",
              "    <tr>\n",
              "      <th>92303</th>\n",
              "      <td>276</td>\n",
              "      <td>7372</td>\n",
              "      <td>Польша</td>\n",
              "      <td>Польша</td>\n",
              "      <td>17029</td>\n",
              "      <td>2020-07-01</td>\n",
              "      <td>Базовые полимеры</td>\n",
              "      <td>ПП</td>\n",
              "      <td>ПП</td>\n",
              "      <td>Контракт</td>\n",
              "      <td>2020-07-31</td>\n",
              "      <td>25.0</td>\n",
              "    </tr>\n",
              "    <tr>\n",
              "      <th>92304</th>\n",
              "      <td>583</td>\n",
              "      <td>5983</td>\n",
              "      <td>Россия</td>\n",
              "      <td>Респ. Башкортостан</td>\n",
              "      <td>16788</td>\n",
              "      <td>2020-07-01</td>\n",
              "      <td>Пластики и продукты органического синтеза</td>\n",
              "      <td>ПСВ</td>\n",
              "      <td>Полистирол</td>\n",
              "      <td>Контракт</td>\n",
              "      <td>2020-07-31</td>\n",
              "      <td>21.0</td>\n",
              "    </tr>\n",
              "    <tr>\n",
              "      <th>92305</th>\n",
              "      <td>276</td>\n",
              "      <td>7372</td>\n",
              "      <td>Польша</td>\n",
              "      <td>Польша</td>\n",
              "      <td>17029</td>\n",
              "      <td>2020-07-01</td>\n",
              "      <td>Базовые полимеры</td>\n",
              "      <td>ПП</td>\n",
              "      <td>ПП</td>\n",
              "      <td>Контракт</td>\n",
              "      <td>2020-07-31</td>\n",
              "      <td>25.0</td>\n",
              "    </tr>\n",
              "  </tbody>\n",
              "</table>\n",
              "<p>92306 rows × 12 columns</p>\n",
              "</div>"
            ],
            "text/plain": [
              "       material_code  company_code    country  ... contract_type       date volume\n",
              "0                134             0      Литва  ...          Спот 2018-01-01   43.0\n",
              "1                197             0      Китай  ...          Спот 2018-01-02   95.0\n",
              "2                794          2162  Казахстан  ...      Контракт 2018-01-02   57.0\n",
              "3                134             0      Литва  ...          Спот 2018-01-02   21.0\n",
              "4                133             0      Китай  ...          Спот 2018-01-02  150.0\n",
              "...              ...           ...        ...  ...           ...        ...    ...\n",
              "92301            134             0    Украина  ...          Спот 2020-07-31   21.0\n",
              "92302            486             0     Россия  ...          Спот 2020-07-31    3.0\n",
              "92303            276          7372     Польша  ...      Контракт 2020-07-31   25.0\n",
              "92304            583          5983     Россия  ...      Контракт 2020-07-31   21.0\n",
              "92305            276          7372     Польша  ...      Контракт 2020-07-31   25.0\n",
              "\n",
              "[92306 rows x 12 columns]"
            ]
          },
          "metadata": {},
          "execution_count": 7
        }
      ]
    },
    {
      "cell_type": "code",
      "metadata": {
        "id": "713NazlE3W1I",
        "execution": {
          "iopub.status.busy": "2021-12-03T06:19:36.881807Z",
          "iopub.execute_input": "2021-12-03T06:19:36.882396Z",
          "iopub.status.idle": "2021-12-03T06:19:36.997542Z",
          "shell.execute_reply.started": "2021-12-03T06:19:36.882354Z",
          "shell.execute_reply": "2021-12-03T06:19:36.996669Z"
        },
        "trusted": true,
        "colab": {
          "base_uri": "https://localhost:8080/"
        },
        "outputId": "ae017faf-d813-41f5-c56e-68889b510e06"
      },
      "source": [
        "data.info()"
      ],
      "execution_count": 8,
      "outputs": [
        {
          "output_type": "stream",
          "name": "stdout",
          "text": [
            "<class 'pandas.core.frame.DataFrame'>\n",
            "RangeIndex: 92306 entries, 0 to 92305\n",
            "Data columns (total 12 columns):\n",
            " #   Column              Non-Null Count  Dtype         \n",
            "---  ------              --------------  -----         \n",
            " 0   material_code       92306 non-null  int64         \n",
            " 1   company_code        92306 non-null  int64         \n",
            " 2   country             92306 non-null  object        \n",
            " 3   region              92306 non-null  object        \n",
            " 4   manager_code        92306 non-null  int64         \n",
            " 5   month               92306 non-null  datetime64[ns]\n",
            " 6   material_lvl1_name  92306 non-null  object        \n",
            " 7   material_lvl2_name  92306 non-null  object        \n",
            " 8   material_lvl3_name  92306 non-null  object        \n",
            " 9   contract_type       92306 non-null  object        \n",
            " 10  date                92306 non-null  datetime64[ns]\n",
            " 11  volume              92306 non-null  float64       \n",
            "dtypes: datetime64[ns](2), float64(1), int64(3), object(6)\n",
            "memory usage: 8.5+ MB\n"
          ]
        }
      ]
    },
    {
      "cell_type": "markdown",
      "metadata": {
        "id": "WvIneiiK3W1K"
      },
      "source": [
        "Временной диапазон тренировочного множества:"
      ]
    },
    {
      "cell_type": "code",
      "metadata": {
        "id": "fRFmAWQR3W1M",
        "execution": {
          "iopub.status.busy": "2021-12-03T06:19:37.004129Z",
          "iopub.execute_input": "2021-12-03T06:19:37.004449Z",
          "iopub.status.idle": "2021-12-03T06:19:37.020094Z",
          "shell.execute_reply.started": "2021-12-03T06:19:37.004408Z",
          "shell.execute_reply": "2021-12-03T06:19:37.019450Z"
        },
        "trusted": true,
        "colab": {
          "base_uri": "https://localhost:8080/"
        },
        "outputId": "6ce4003c-f953-4380-c006-2b2ac28b09ec"
      },
      "source": [
        "data.month.min(), data.month.max()"
      ],
      "execution_count": 9,
      "outputs": [
        {
          "output_type": "execute_result",
          "data": {
            "text/plain": [
              "(Timestamp('2018-01-01 00:00:00'), Timestamp('2020-07-01 00:00:00'))"
            ]
          },
          "metadata": {},
          "execution_count": 9
        }
      ]
    },
    {
      "cell_type": "markdown",
      "metadata": {
        "id": "ZW0ZiUbX3W1P"
      },
      "source": [
        "# Временные ряды"
      ]
    },
    {
      "cell_type": "code",
      "metadata": {
        "id": "yZPg9taWtCsU"
      },
      "source": [
        "from scipy.special import boxcox1p, inv_boxcox1p\n",
        "from sklearn.preprocessing import StandardScaler"
      ],
      "execution_count": 10,
      "outputs": []
    },
    {
      "cell_type": "code",
      "metadata": {
        "id": "pXRCLyz13W1Q",
        "execution": {
          "iopub.status.busy": "2021-12-03T06:19:37.022713Z",
          "iopub.execute_input": "2021-12-03T06:19:37.023266Z",
          "iopub.status.idle": "2021-12-03T06:19:37.093364Z",
          "shell.execute_reply.started": "2021-12-03T06:19:37.023230Z",
          "shell.execute_reply": "2021-12-03T06:19:37.092680Z"
        },
        "trusted": true
      },
      "source": [
        "# группируем по пяти колонкам и месяцу, чтобы получить 914 групп, \n",
        "# на данных которых будем обучаться\n",
        "group_ts = data.groupby(AGG_COLS + [\"month\"])[\"volume\"].sum().unstack(fill_value=0)"
      ],
      "execution_count": 11,
      "outputs": []
    },
    {
      "cell_type": "code",
      "metadata": {
        "id": "7ioY_vjkfxFW",
        "execution": {
          "iopub.status.busy": "2021-12-03T06:19:37.097797Z",
          "iopub.execute_input": "2021-12-03T06:19:37.100678Z",
          "iopub.status.idle": "2021-12-03T06:19:37.158576Z",
          "shell.execute_reply.started": "2021-12-03T06:19:37.100630Z",
          "shell.execute_reply": "2021-12-03T06:19:37.157906Z"
        },
        "trusted": true
      },
      "source": [
        "group_ts_orig = data.groupby(AGG_COLS + [\"month\"])[\"volume\"].sum().unstack(fill_value=0)"
      ],
      "execution_count": 12,
      "outputs": []
    },
    {
      "cell_type": "code",
      "metadata": {
        "id": "bCrIdnir3W1Q",
        "execution": {
          "iopub.status.busy": "2021-12-03T06:19:37.178135Z",
          "iopub.execute_input": "2021-12-03T06:19:37.179126Z",
          "iopub.status.idle": "2021-12-03T06:19:37.615477Z",
          "shell.execute_reply.started": "2021-12-03T06:19:37.179087Z",
          "shell.execute_reply": "2021-12-03T06:19:37.614760Z"
        },
        "trusted": true
      },
      "source": [
        "# логарифмируем (выручку + 1)\n",
        "for i in range(0,941):\n",
        "    group_ts.iloc[i] = np.log10(group_ts.iloc[i]+1)\n",
        "    # group_ts.iloc[i][group_ts.iloc[i] == 0] = 0.001"
      ],
      "execution_count": 13,
      "outputs": []
    },
    {
      "cell_type": "code",
      "metadata": {
        "id": "0VxIp4t_fezR",
        "execution": {
          "iopub.status.busy": "2021-12-03T06:19:37.620328Z",
          "iopub.execute_input": "2021-12-03T06:19:37.623047Z",
          "iopub.status.idle": "2021-12-03T06:19:38.200411Z",
          "shell.execute_reply.started": "2021-12-03T06:19:37.623007Z",
          "shell.execute_reply": "2021-12-03T06:19:38.199743Z"
        },
        "trusted": true,
        "colab": {
          "base_uri": "https://localhost:8080/",
          "height": 249
        },
        "outputId": "36ef415d-bb10-4b0b-db50-648d1da4d37f"
      },
      "source": [
        "fig, (ax1,ax2) = plt.subplots(2,1,figsize=(18,4))\n",
        "for ROW_ID in range(20,30):\n",
        "    ax1.plot(group_ts_orig.iloc[ROW_ID],c='green')\n",
        "    ax2.plot(group_ts.iloc[ROW_ID],c='blue')"
      ],
      "execution_count": 14,
      "outputs": [
        {
          "output_type": "display_data",
          "data": {
            "image/png": "[encoded data removed]",
            "text/plain": [
              "<Figure size 1296x288 with 2 Axes>"
            ]
          },
          "metadata": {
            "needs_background": "light"
          }
        }
      ]
    },
    {
      "cell_type": "markdown",
      "metadata": {
        "id": "UDORHS803W1X"
      },
      "source": [
        "# Baseline #3: CatBoostRegressor\n",
        "\n",
        "Признаки:\n",
        "\n",
        "- оригинальные категориальные признаки,\n",
        "- месяц, для которого предсказываем,\n",
        "- среднее, минимум и максимум за год,\n",
        "- последние 6 месяцев до месяца, для которого предсказываем.\n",
        "\n",
        "Для тренировки будем использовать период `2019-01-01` по `2019-06-01`, для валидации: с `2019-07-01` по `2019-12-01`, для тестирования: с `2020-01-01` по `2020-07-01`."
      ]
    },
    {
      "cell_type": "code",
      "metadata": {
        "id": "S4tzWnjt3W1X",
        "execution": {
          "iopub.status.busy": "2021-12-03T06:19:39.837224Z",
          "iopub.execute_input": "2021-12-03T06:19:39.838122Z",
          "iopub.status.idle": "2021-12-03T06:19:39.849680Z",
          "shell.execute_reply.started": "2021-12-03T06:19:39.838084Z",
          "shell.execute_reply": "2021-12-03T06:19:39.848902Z"
        },
        "trusted": true
      },
      "source": [
        "def get_features(df: pd.DataFrame, month: pd.Timestamp) -> pd.DataFrame:\n",
        "    \"\"\"Calculate features for `month`.\"\"\"\n",
        "\n",
        "    start_period = month - pd.offsets.MonthBegin(6)\n",
        "    end_period = month - pd.offsets.MonthBegin(1)\n",
        "\n",
        "    df = df.loc[:, :end_period]\n",
        "\n",
        "    features = pd.DataFrame([], index=df.index)\n",
        "    features[\"month\"] = month.month\n",
        "    features[[f\"vol_tm{i}\" for i in range(6, 0, -1)]] = df.loc[:, start_period:end_period].copy()\n",
        "\n",
        "    features[\"vol_tm2_diff\"] = features[\"vol_tm1\"] - features[\"vol_tm2\"]\n",
        "    features[\"vol_tm3_diff\"] = features[\"vol_tm2\"] - features[\"vol_tm3\"]\n",
        "    features[\"vol_tm4_diff\"] = features[\"vol_tm3\"] - features[\"vol_tm4\"]\n",
        "    features[\"vol_tm5_diff\"] = features[\"vol_tm4\"] - features[\"vol_tm5\"]\n",
        "    features[\"vol_tm6_diff\"] = features[\"vol_tm5\"] - features[\"vol_tm6\"]  \n",
        "\n",
        "    features[\"vol_tm2_diff_last\"] = features[\"vol_tm1\"] - features[\"vol_tm2\"]\n",
        "    features[\"vol_tm3_diff_last\"] = features[\"vol_tm1\"] - features[\"vol_tm3\"]\n",
        "    features[\"vol_tm4_diff_last\"] = features[\"vol_tm1\"] - features[\"vol_tm4\"]\n",
        "    features[\"vol_tm5_diff_last\"] = features[\"vol_tm1\"] - features[\"vol_tm5\"]\n",
        "    features[\"vol_tm6_diff_last\"] = features[\"vol_tm1\"] - features[\"vol_tm6\"]\n",
        "         \n",
        "\n",
        "    if month.month in [3,4,5]:\n",
        "        features[\"season\"] = 1\n",
        "    elif month.month in [6,7,8]:\n",
        "        features[\"season\"] = 2\n",
        "    elif month.month in [9,10,11]:\n",
        "        features[\"season\"] = 3\n",
        "    else:\n",
        "        features[\"season\"] = 4              \n",
        "  \n",
        "    \n",
        "    rolling = df.rolling(6, axis=1, min_periods=1)\n",
        "    features = features.join(rolling.median().iloc[:, -1].rename(\"last_six_med\"))\n",
        "    features = features.join(rolling.mean().iloc[:, -1].rename(\"last_six_avg\"))\n",
        "    features = features.join(rolling.min().iloc[:, -1].rename(\"last_six_min\"))\n",
        "    features = features.join(rolling.max().iloc[:, -1].rename(\"last_six_max\"))    \n",
        "\n",
        "    rolling = df.rolling(3, axis=1, min_periods=1)\n",
        "    features = features.join(rolling.median().iloc[:, -1].rename(\"last_3_med\"))\n",
        "    features = features.join(rolling.mean().iloc[:, -1].rename(\"last_3_avg\"))\n",
        "    features = features.join(rolling.min().iloc[:, -1].rename(\"last_3_min\"))\n",
        "    features = features.join(rolling.max().iloc[:, -1].rename(\"last_3_max\"))        \n",
        "\n",
        "    rolling = df.rolling(12, axis=1, min_periods=1)\n",
        "    features = features.join(rolling.median().iloc[:, -1].rename(\"last_12_med\"))\n",
        "    features = features.join(rolling.mean().iloc[:, -1].rename(\"last_12_avg\"))\n",
        "    features = features.join(rolling.min().iloc[:, -1].rename(\"last_12_min\"))\n",
        "    features = features.join(rolling.max().iloc[:, -1].rename(\"last_12_max\"))  \n",
        "\n",
        "    features['e1'] = features[f'vol_tm2']+(features[f'vol_tm1']-features[f'vol_tm2'])*2\n",
        "    features['e2'] = features[f'vol_tm1']+(features[f'vol_tm1']-features[f'vol_tm2'])\n",
        "    \n",
        "\n",
        "    features['count0_last_year'] = df[df==0].iloc[:,-12:].isna().sum(axis=1)\n",
        "\n",
        "\n",
        "    features[\"month\"] = month.month\n",
        "\n",
        "\n",
        "    return features"
      ],
      "execution_count": 15,
      "outputs": []
    },
    {
      "cell_type": "code",
      "metadata": {
        "id": "ma7WkiTK3W1Y",
        "execution": {
          "iopub.status.busy": "2021-12-03T06:19:39.851082Z",
          "iopub.execute_input": "2021-12-03T06:19:39.851563Z",
          "iopub.status.idle": "2021-12-03T06:19:39.860808Z",
          "shell.execute_reply.started": "2021-12-03T06:19:39.851522Z",
          "shell.execute_reply": "2021-12-03T06:19:39.859988Z"
        },
        "trusted": true
      },
      "source": [
        "tr_range = pd.date_range(\"2019-01-01\", \"2019-06-01\", freq=\"MS\")\n",
        "val_range = pd.date_range(\"2019-07-01\", \"2019-12-01\", freq=\"MS\")\n",
        "ts_range = pd.date_range(\"2020-01-01\", \"2020-07-01\", freq=\"MS\")"
      ],
      "execution_count": 16,
      "outputs": []
    },
    {
      "cell_type": "code",
      "metadata": {
        "id": "dyU4eOaV3W1Y",
        "execution": {
          "iopub.status.busy": "2021-12-03T06:19:39.862310Z",
          "iopub.execute_input": "2021-12-03T06:19:39.862584Z",
          "iopub.status.idle": "2021-12-03T06:19:43.073348Z",
          "shell.execute_reply.started": "2021-12-03T06:19:39.862548Z",
          "shell.execute_reply": "2021-12-03T06:19:43.072550Z"
        },
        "trusted": true
      },
      "source": [
        "full_features = {}\n",
        "\n",
        "for dataset, dataset_range in zip([\"tr\", \"val\", \"ts\"], [tr_range, val_range, ts_range]):\n",
        "    dataset_features = []\n",
        "    for target_month in dataset_range:\n",
        "        features = get_features(group_ts, target_month)\n",
        "        features[\"target\"] = group_ts[target_month]\n",
        "        dataset_features.append(features.reset_index())\n",
        "    full_features[dataset] = pd.concat(dataset_features, ignore_index=True)"
      ],
      "execution_count": 17,
      "outputs": []
    },
    {
      "cell_type": "code",
      "metadata": {
        "colab": {
          "base_uri": "https://localhost:8080/",
          "height": 565
        },
        "id": "PGdz0VDT3alN",
        "outputId": "c908af4f-630f-4268-a33c-25c31ecca914"
      },
      "source": [
        "full_features[\"tr\"]"
      ],
      "execution_count": null,
      "outputs": [
        {
          "output_type": "execute_result",
          "data": {
            "text/html": [
              "<div>\n",
              "<style scoped>\n",
              "    .dataframe tbody tr th:only-of-type {\n",
              "        vertical-align: middle;\n",
              "    }\n",
              "\n",
              "    .dataframe tbody tr th {\n",
              "        vertical-align: top;\n",
              "    }\n",
              "\n",
              "    .dataframe thead th {\n",
              "        text-align: right;\n",
              "    }\n",
              "</style>\n",
              "<table border=\"1\" class=\"dataframe\">\n",
              "  <thead>\n",
              "    <tr style=\"text-align: right;\">\n",
              "      <th></th>\n",
              "      <th>material_code</th>\n",
              "      <th>company_code</th>\n",
              "      <th>country</th>\n",
              "      <th>region</th>\n",
              "      <th>manager_code</th>\n",
              "      <th>month</th>\n",
              "      <th>vol_tm6</th>\n",
              "      <th>vol_tm5</th>\n",
              "      <th>vol_tm4</th>\n",
              "      <th>vol_tm3</th>\n",
              "      <th>vol_tm2</th>\n",
              "      <th>vol_tm1</th>\n",
              "      <th>vol_tm2_diff</th>\n",
              "      <th>vol_tm3_diff</th>\n",
              "      <th>vol_tm4_diff</th>\n",
              "      <th>vol_tm5_diff</th>\n",
              "      <th>vol_tm6_diff</th>\n",
              "      <th>season</th>\n",
              "      <th>last_y_med</th>\n",
              "      <th>last_six_avg</th>\n",
              "      <th>last_six_min</th>\n",
              "      <th>last_six_max</th>\n",
              "      <th>last_3_avg</th>\n",
              "      <th>last_3_min</th>\n",
              "      <th>last_3_max</th>\n",
              "      <th>target</th>\n",
              "    </tr>\n",
              "  </thead>\n",
              "  <tbody>\n",
              "    <tr>\n",
              "      <th>0</th>\n",
              "      <td>124</td>\n",
              "      <td>7278</td>\n",
              "      <td>Россия</td>\n",
              "      <td>Респ. Татарстан</td>\n",
              "      <td>17460</td>\n",
              "      <td>1</td>\n",
              "      <td>5.398163</td>\n",
              "      <td>5.398163</td>\n",
              "      <td>5.398163</td>\n",
              "      <td>5.638355</td>\n",
              "      <td>5.638355</td>\n",
              "      <td>5.638355</td>\n",
              "      <td>0.000000</td>\n",
              "      <td>0.000000</td>\n",
              "      <td>0.240192</td>\n",
              "      <td>0.000000</td>\n",
              "      <td>0.000000</td>\n",
              "      <td>4</td>\n",
              "      <td>5.524659</td>\n",
              "      <td>5.518259</td>\n",
              "      <td>5.398163</td>\n",
              "      <td>5.638355</td>\n",
              "      <td>5.638355</td>\n",
              "      <td>5.638355</td>\n",
              "      <td>5.638355</td>\n",
              "      <td>5.303305</td>\n",
              "    </tr>\n",
              "    <tr>\n",
              "      <th>1</th>\n",
              "      <td>133</td>\n",
              "      <td>0</td>\n",
              "      <td>Белоруссия</td>\n",
              "      <td>Минская обл.</td>\n",
              "      <td>10942</td>\n",
              "      <td>1</td>\n",
              "      <td>0.000000</td>\n",
              "      <td>0.000000</td>\n",
              "      <td>0.000000</td>\n",
              "      <td>0.000000</td>\n",
              "      <td>0.000000</td>\n",
              "      <td>0.000000</td>\n",
              "      <td>0.000000</td>\n",
              "      <td>0.000000</td>\n",
              "      <td>0.000000</td>\n",
              "      <td>0.000000</td>\n",
              "      <td>0.000000</td>\n",
              "      <td>4</td>\n",
              "      <td>0.000000</td>\n",
              "      <td>0.000000</td>\n",
              "      <td>0.000000</td>\n",
              "      <td>0.000000</td>\n",
              "      <td>0.000000</td>\n",
              "      <td>0.000000</td>\n",
              "      <td>0.000000</td>\n",
              "      <td>0.000000</td>\n",
              "    </tr>\n",
              "    <tr>\n",
              "      <th>2</th>\n",
              "      <td>133</td>\n",
              "      <td>0</td>\n",
              "      <td>Белоруссия</td>\n",
              "      <td>Могилевская обл.</td>\n",
              "      <td>10942</td>\n",
              "      <td>1</td>\n",
              "      <td>0.000000</td>\n",
              "      <td>0.000000</td>\n",
              "      <td>4.615121</td>\n",
              "      <td>5.398163</td>\n",
              "      <td>3.044522</td>\n",
              "      <td>0.000000</td>\n",
              "      <td>-3.044522</td>\n",
              "      <td>-2.353640</td>\n",
              "      <td>0.783042</td>\n",
              "      <td>4.615121</td>\n",
              "      <td>0.000000</td>\n",
              "      <td>4</td>\n",
              "      <td>0.000000</td>\n",
              "      <td>2.176301</td>\n",
              "      <td>0.000000</td>\n",
              "      <td>5.398163</td>\n",
              "      <td>2.814228</td>\n",
              "      <td>0.000000</td>\n",
              "      <td>5.398163</td>\n",
              "      <td>0.000000</td>\n",
              "    </tr>\n",
              "    <tr>\n",
              "      <th>3</th>\n",
              "      <td>133</td>\n",
              "      <td>0</td>\n",
              "      <td>Белоруссия</td>\n",
              "      <td>г. Минск</td>\n",
              "      <td>10942</td>\n",
              "      <td>1</td>\n",
              "      <td>5.198497</td>\n",
              "      <td>4.605170</td>\n",
              "      <td>4.110874</td>\n",
              "      <td>5.993961</td>\n",
              "      <td>4.795791</td>\n",
              "      <td>3.044522</td>\n",
              "      <td>-1.751268</td>\n",
              "      <td>-1.198171</td>\n",
              "      <td>1.883088</td>\n",
              "      <td>-0.494296</td>\n",
              "      <td>-0.593327</td>\n",
              "      <td>4</td>\n",
              "      <td>3.912223</td>\n",
              "      <td>4.624803</td>\n",
              "      <td>3.044522</td>\n",
              "      <td>5.993961</td>\n",
              "      <td>4.611425</td>\n",
              "      <td>3.044522</td>\n",
              "      <td>5.993961</td>\n",
              "      <td>3.713572</td>\n",
              "    </tr>\n",
              "    <tr>\n",
              "      <th>4</th>\n",
              "      <td>133</td>\n",
              "      <td>0</td>\n",
              "      <td>Казахстан</td>\n",
              "      <td>г. Нур-Султан</td>\n",
              "      <td>13301</td>\n",
              "      <td>1</td>\n",
              "      <td>3.713572</td>\n",
              "      <td>3.044522</td>\n",
              "      <td>3.713572</td>\n",
              "      <td>3.433987</td>\n",
              "      <td>0.000000</td>\n",
              "      <td>3.713572</td>\n",
              "      <td>3.713572</td>\n",
              "      <td>-3.433987</td>\n",
              "      <td>-0.279585</td>\n",
              "      <td>0.669050</td>\n",
              "      <td>-0.669050</td>\n",
              "      <td>4</td>\n",
              "      <td>3.239255</td>\n",
              "      <td>2.936538</td>\n",
              "      <td>0.000000</td>\n",
              "      <td>3.713572</td>\n",
              "      <td>2.382520</td>\n",
              "      <td>0.000000</td>\n",
              "      <td>3.713572</td>\n",
              "      <td>3.713572</td>\n",
              "    </tr>\n",
              "    <tr>\n",
              "      <th>...</th>\n",
              "      <td>...</td>\n",
              "      <td>...</td>\n",
              "      <td>...</td>\n",
              "      <td>...</td>\n",
              "      <td>...</td>\n",
              "      <td>...</td>\n",
              "      <td>...</td>\n",
              "      <td>...</td>\n",
              "      <td>...</td>\n",
              "      <td>...</td>\n",
              "      <td>...</td>\n",
              "      <td>...</td>\n",
              "      <td>...</td>\n",
              "      <td>...</td>\n",
              "      <td>...</td>\n",
              "      <td>...</td>\n",
              "      <td>...</td>\n",
              "      <td>...</td>\n",
              "      <td>...</td>\n",
              "      <td>...</td>\n",
              "      <td>...</td>\n",
              "      <td>...</td>\n",
              "      <td>...</td>\n",
              "      <td>...</td>\n",
              "      <td>...</td>\n",
              "      <td>...</td>\n",
              "    </tr>\n",
              "    <tr>\n",
              "      <th>5641</th>\n",
              "      <td>986</td>\n",
              "      <td>9943</td>\n",
              "      <td>Россия</td>\n",
              "      <td>Смоленская обл.</td>\n",
              "      <td>17460</td>\n",
              "      <td>6</td>\n",
              "      <td>0.000000</td>\n",
              "      <td>0.000000</td>\n",
              "      <td>0.000000</td>\n",
              "      <td>0.000000</td>\n",
              "      <td>0.000000</td>\n",
              "      <td>0.000000</td>\n",
              "      <td>0.000000</td>\n",
              "      <td>0.000000</td>\n",
              "      <td>0.000000</td>\n",
              "      <td>0.000000</td>\n",
              "      <td>0.000000</td>\n",
              "      <td>2</td>\n",
              "      <td>0.000000</td>\n",
              "      <td>0.000000</td>\n",
              "      <td>0.000000</td>\n",
              "      <td>0.000000</td>\n",
              "      <td>0.000000</td>\n",
              "      <td>0.000000</td>\n",
              "      <td>0.000000</td>\n",
              "      <td>0.000000</td>\n",
              "    </tr>\n",
              "    <tr>\n",
              "      <th>5642</th>\n",
              "      <td>998</td>\n",
              "      <td>0</td>\n",
              "      <td>Россия</td>\n",
              "      <td>Ленинградская обл.</td>\n",
              "      <td>18079</td>\n",
              "      <td>6</td>\n",
              "      <td>0.000000</td>\n",
              "      <td>1.791759</td>\n",
              "      <td>1.791759</td>\n",
              "      <td>0.000000</td>\n",
              "      <td>2.197225</td>\n",
              "      <td>1.791759</td>\n",
              "      <td>-0.405465</td>\n",
              "      <td>2.197225</td>\n",
              "      <td>-1.791759</td>\n",
              "      <td>0.000000</td>\n",
              "      <td>1.791759</td>\n",
              "      <td>2</td>\n",
              "      <td>1.700599</td>\n",
              "      <td>1.262084</td>\n",
              "      <td>0.000000</td>\n",
              "      <td>2.197225</td>\n",
              "      <td>1.329661</td>\n",
              "      <td>0.000000</td>\n",
              "      <td>2.197225</td>\n",
              "      <td>2.397895</td>\n",
              "    </tr>\n",
              "    <tr>\n",
              "      <th>5643</th>\n",
              "      <td>998</td>\n",
              "      <td>3380</td>\n",
              "      <td>Россия</td>\n",
              "      <td>Ленинградская обл.</td>\n",
              "      <td>14956</td>\n",
              "      <td>6</td>\n",
              "      <td>0.000000</td>\n",
              "      <td>0.000000</td>\n",
              "      <td>0.000000</td>\n",
              "      <td>4.394449</td>\n",
              "      <td>4.553877</td>\n",
              "      <td>4.852030</td>\n",
              "      <td>0.298153</td>\n",
              "      <td>0.159428</td>\n",
              "      <td>4.394449</td>\n",
              "      <td>0.000000</td>\n",
              "      <td>0.000000</td>\n",
              "      <td>2</td>\n",
              "      <td>0.000000</td>\n",
              "      <td>2.300059</td>\n",
              "      <td>0.000000</td>\n",
              "      <td>4.852030</td>\n",
              "      <td>4.600119</td>\n",
              "      <td>4.394449</td>\n",
              "      <td>4.852030</td>\n",
              "      <td>4.804021</td>\n",
              "    </tr>\n",
              "    <tr>\n",
              "      <th>5644</th>\n",
              "      <td>998</td>\n",
              "      <td>5410</td>\n",
              "      <td>Россия</td>\n",
              "      <td>г. Санкт-Петербург</td>\n",
              "      <td>14956</td>\n",
              "      <td>6</td>\n",
              "      <td>4.615121</td>\n",
              "      <td>4.795791</td>\n",
              "      <td>4.787492</td>\n",
              "      <td>5.081404</td>\n",
              "      <td>4.795791</td>\n",
              "      <td>4.948760</td>\n",
              "      <td>0.152969</td>\n",
              "      <td>-0.285614</td>\n",
              "      <td>0.293913</td>\n",
              "      <td>-0.008299</td>\n",
              "      <td>0.180670</td>\n",
              "      <td>2</td>\n",
              "      <td>4.615121</td>\n",
              "      <td>4.837393</td>\n",
              "      <td>4.615121</td>\n",
              "      <td>5.081404</td>\n",
              "      <td>4.941985</td>\n",
              "      <td>4.795791</td>\n",
              "      <td>5.081404</td>\n",
              "      <td>4.615121</td>\n",
              "    </tr>\n",
              "    <tr>\n",
              "      <th>5645</th>\n",
              "      <td>998</td>\n",
              "      <td>6346</td>\n",
              "      <td>Россия</td>\n",
              "      <td>Респ. Башкортостан</td>\n",
              "      <td>10737</td>\n",
              "      <td>6</td>\n",
              "      <td>0.000000</td>\n",
              "      <td>0.000000</td>\n",
              "      <td>0.000000</td>\n",
              "      <td>3.044522</td>\n",
              "      <td>0.000000</td>\n",
              "      <td>3.044522</td>\n",
              "      <td>3.044522</td>\n",
              "      <td>-3.044522</td>\n",
              "      <td>3.044522</td>\n",
              "      <td>0.000000</td>\n",
              "      <td>0.000000</td>\n",
              "      <td>2</td>\n",
              "      <td>0.000000</td>\n",
              "      <td>1.014841</td>\n",
              "      <td>0.000000</td>\n",
              "      <td>3.044522</td>\n",
              "      <td>2.029682</td>\n",
              "      <td>0.000000</td>\n",
              "      <td>3.044522</td>\n",
              "      <td>0.000000</td>\n",
              "    </tr>\n",
              "  </tbody>\n",
              "</table>\n",
              "<p>5646 rows × 26 columns</p>\n",
              "</div>"
            ],
            "text/plain": [
              "      material_code  company_code     country  ... last_3_min  last_3_max    target\n",
              "0               124          7278      Россия  ...   5.638355    5.638355  5.303305\n",
              "1               133             0  Белоруссия  ...   0.000000    0.000000  0.000000\n",
              "2               133             0  Белоруссия  ...   0.000000    5.398163  0.000000\n",
              "3               133             0  Белоруссия  ...   3.044522    5.993961  3.713572\n",
              "4               133             0   Казахстан  ...   0.000000    3.713572  3.713572\n",
              "...             ...           ...         ...  ...        ...         ...       ...\n",
              "5641            986          9943      Россия  ...   0.000000    0.000000  0.000000\n",
              "5642            998             0      Россия  ...   0.000000    2.197225  2.397895\n",
              "5643            998          3380      Россия  ...   4.394449    4.852030  4.804021\n",
              "5644            998          5410      Россия  ...   4.795791    5.081404  4.615121\n",
              "5645            998          6346      Россия  ...   0.000000    3.044522  0.000000\n",
              "\n",
              "[5646 rows x 26 columns]"
            ]
          },
          "metadata": {},
          "execution_count": 14
        }
      ]
    },
    {
      "cell_type": "markdown",
      "metadata": {
        "id": "2AgCyuewVn5m"
      },
      "source": [
        "# CATBOOST"
      ]
    },
    {
      "cell_type": "code",
      "metadata": {
        "id": "rJHd0_lwV64H",
        "execution": {
          "iopub.status.busy": "2021-12-03T06:19:43.615594Z",
          "iopub.execute_input": "2021-12-03T06:19:43.616014Z",
          "iopub.status.idle": "2021-12-03T06:19:43.772523Z",
          "shell.execute_reply.started": "2021-12-03T06:19:43.615963Z",
          "shell.execute_reply": "2021-12-03T06:19:43.771834Z"
        },
        "trusted": true
      },
      "source": [
        "from catboost import CatBoostRegressor\n",
        "from sklearn.model_selection import TimeSeriesSplit, cross_validate"
      ],
      "execution_count": null,
      "outputs": []
    },
    {
      "cell_type": "code",
      "metadata": {
        "id": "qPH7ivqTVmQm",
        "execution": {
          "iopub.status.busy": "2021-12-03T06:19:43.773861Z",
          "iopub.execute_input": "2021-12-03T06:19:43.774250Z",
          "iopub.status.idle": "2021-12-03T06:19:43.779144Z",
          "shell.execute_reply.started": "2021-12-03T06:19:43.774215Z",
          "shell.execute_reply": "2021-12-03T06:19:43.778434Z"
        },
        "trusted": true
      },
      "source": [
        "CAT_COLS = [\"material_code\", \"company_code\", \"country\", \"region\", \"manager_code\", \"month\"]\n",
        "FTS_COLS = [\"material_code\", \"company_code\", \"country\", \"region\", \"manager_code\", \"month\",\n",
        "            \"vol_tm6\", \"vol_tm5\", \"vol_tm4\", \"vol_tm3\", \"vol_tm2\", \"vol_tm1\", \"season\",\n",
        "            \"last_six_avg\", \"last_six_min\", \"last_six_max\",\"last_six_med\",\n",
        "            \"last_3_avg\", \"last_3_min\", \"last_3_max\", \"last_3_med\",\n",
        "            \"last_12_avg\", \"last_12_min\", \"last_12_max\", \"last_12_med\",\n",
        "            \"vol_tm6_diff\",\"vol_tm5_diff\", \"vol_tm4_diff\", \"vol_tm3_diff\", \"vol_tm2_diff\",\n",
        "            \"vol_tm6_diff_last\",\"vol_tm5_diff_last\", \"vol_tm4_diff_last\", \"vol_tm3_diff_last\", \"vol_tm2_diff_last\",\n",
        "            \"e1\",\"e2\"]\n",
        "TARGET = \"target\""
      ],
      "execution_count": null,
      "outputs": []
    },
    {
      "cell_type": "code",
      "metadata": {
        "id": "MVGRSGMXTQ6Y"
      },
      "source": [
        "RS = 79635"
      ],
      "execution_count": null,
      "outputs": []
    },
    {
      "cell_type": "code",
      "metadata": {
        "id": "VKirz7gs3W1Z",
        "execution": {
          "iopub.status.busy": "2021-12-03T06:19:43.780244Z",
          "iopub.execute_input": "2021-12-03T06:19:43.781114Z",
          "iopub.status.idle": "2021-12-03T06:19:43.791061Z",
          "shell.execute_reply.started": "2021-12-03T06:19:43.781079Z",
          "shell.execute_reply": "2021-12-03T06:19:43.790322Z"
        },
        "trusted": true
      },
      "source": [
        "model = CatBoostRegressor(iterations=1000,\n",
        "                          # learning_rate = 0.1,\n",
        "                          early_stopping_rounds=30,\n",
        "                          depth=6,\n",
        "                          cat_features=CAT_COLS,\n",
        "                          random_state=RS,\n",
        "                          verbose = 10)"
      ],
      "execution_count": null,
      "outputs": []
    },
    {
      "cell_type": "code",
      "metadata": {
        "id": "UkKn6NqvNYtk",
        "execution": {
          "iopub.status.busy": "2021-12-03T06:19:43.792189Z",
          "iopub.execute_input": "2021-12-03T06:19:43.792515Z",
          "iopub.status.idle": "2021-12-03T06:19:46.696943Z",
          "shell.execute_reply.started": "2021-12-03T06:19:43.792479Z",
          "shell.execute_reply": "2021-12-03T06:19:46.696198Z"
        },
        "trusted": true,
        "colab": {
          "base_uri": "https://localhost:8080/"
        },
        "outputId": "2b620bba-90fc-4c0a-92ac-e17301bd3fa4"
      },
      "source": [
        "model.fit(full_features[\"tr\"][FTS_COLS], full_features[\"tr\"][TARGET],\n",
        "          eval_set=(full_features[\"val\"][FTS_COLS], full_features[\"val\"][TARGET]))"
      ],
      "execution_count": null,
      "outputs": [
        {
          "output_type": "stream",
          "name": "stdout",
          "text": [
            "Learning rate set to 0.066822\n",
            "0:\tlearn: 0.9377680\ttest: 0.9263740\tbest: 0.9263740 (0)\ttotal: 72ms\tremaining: 1m 11s\n",
            "10:\tlearn: 0.7445626\ttest: 0.7502509\tbest: 0.7502509 (10)\ttotal: 295ms\tremaining: 26.5s\n",
            "20:\tlearn: 0.6754669\ttest: 0.6929416\tbest: 0.6929416 (20)\ttotal: 534ms\tremaining: 24.9s\n",
            "30:\tlearn: 0.6486693\ttest: 0.6758690\tbest: 0.6758690 (30)\ttotal: 764ms\tremaining: 23.9s\n",
            "40:\tlearn: 0.6356753\ttest: 0.6713597\tbest: 0.6713597 (40)\ttotal: 982ms\tremaining: 23s\n",
            "50:\tlearn: 0.6294115\ttest: 0.6702746\tbest: 0.6702746 (50)\ttotal: 1.18s\tremaining: 22s\n",
            "60:\tlearn: 0.6241562\ttest: 0.6698434\tbest: 0.6697591 (59)\ttotal: 1.4s\tremaining: 21.5s\n",
            "70:\tlearn: 0.6202028\ttest: 0.6700885\tbest: 0.6697591 (59)\ttotal: 1.58s\tremaining: 20.7s\n",
            "80:\tlearn: 0.6150152\ttest: 0.6707566\tbest: 0.6697591 (59)\ttotal: 1.8s\tremaining: 20.4s\n",
            "Stopped by overfitting detector  (30 iterations wait)\n",
            "\n",
            "bestTest = 0.669759072\n",
            "bestIteration = 59\n",
            "\n",
            "Shrink model to first 60 iterations.\n"
          ]
        },
        {
          "output_type": "execute_result",
          "data": {
            "text/plain": [
              "<catboost.core.CatBoostRegressor at 0x7f2876bf94d0>"
            ]
          },
          "metadata": {},
          "execution_count": 28
        }
      ]
    },
    {
      "cell_type": "code",
      "metadata": {
        "id": "UhOg6lA83W1Z",
        "execution": {
          "iopub.status.busy": "2021-12-03T06:19:46.698256Z",
          "iopub.execute_input": "2021-12-03T06:19:46.699103Z",
          "iopub.status.idle": "2021-12-03T06:19:46.708901Z",
          "shell.execute_reply.started": "2021-12-03T06:19:46.699065Z",
          "shell.execute_reply": "2021-12-03T06:19:46.708030Z"
        },
        "trusted": true,
        "colab": {
          "base_uri": "https://localhost:8080/"
        },
        "outputId": "b1fed2d4-204e-4090-e627-4c0783dd0f8d"
      },
      "source": [
        "pd.Series(model.feature_importances_, index=FTS_COLS).sort_values(ascending=False)"
      ],
      "execution_count": null,
      "outputs": [
        {
          "output_type": "execute_result",
          "data": {
            "text/plain": [
              "vol_tm1              16.564626\n",
              "vol_tm2              11.468724\n",
              "last_3_avg            9.126495\n",
              "last_3_max            7.007987\n",
              "e1                    5.521958\n",
              "e2                    5.230218\n",
              "last_12_med           4.712695\n",
              "last_3_med            4.638226\n",
              "last_12_avg           4.092132\n",
              "last_six_avg          3.603964\n",
              "last_six_max          3.226197\n",
              "season                2.715687\n",
              "last_six_med          2.048800\n",
              "vol_tm5_diff_last     1.819617\n",
              "vol_tm3               1.692921\n",
              "vol_tm4               1.557926\n",
              "material_code         1.418118\n",
              "month                 1.292149\n",
              "vol_tm6               1.051774\n",
              "manager_code          1.004445\n",
              "vol_tm5               0.962732\n",
              "last_12_max           0.956324\n",
              "vol_tm3_diff_last     0.953556\n",
              "last_12_min           0.943769\n",
              "vol_tm4_diff_last     0.883220\n",
              "vol_tm6_diff_last     0.841633\n",
              "country               0.839169\n",
              "vol_tm2_diff          0.713300\n",
              "last_3_min            0.596221\n",
              "vol_tm3_diff          0.525264\n",
              "vol_tm5_diff          0.524460\n",
              "vol_tm4_diff          0.419186\n",
              "vol_tm2_diff_last     0.403233\n",
              "vol_tm6_diff          0.357166\n",
              "last_six_min          0.226759\n",
              "region                0.059347\n",
              "company_code          0.000000\n",
              "dtype: float64"
            ]
          },
          "metadata": {},
          "execution_count": 29
        }
      ]
    },
    {
      "cell_type": "code",
      "metadata": {
        "id": "zK6wlMUQr-Eu",
        "execution": {
          "iopub.status.busy": "2021-12-03T06:19:46.710501Z",
          "iopub.execute_input": "2021-12-03T06:19:46.711354Z",
          "iopub.status.idle": "2021-12-03T06:20:13.872111Z",
          "shell.execute_reply.started": "2021-12-03T06:19:46.711314Z",
          "shell.execute_reply": "2021-12-03T06:20:13.871242Z"
        },
        "trusted": true
      },
      "source": [
        "!pip install shap"
      ],
      "execution_count": null,
      "outputs": []
    },
    {
      "cell_type": "code",
      "metadata": {
        "id": "Y038qHSsrxNm",
        "execution": {
          "iopub.status.busy": "2021-12-03T06:20:13.873881Z",
          "iopub.execute_input": "2021-12-03T06:20:13.874705Z",
          "iopub.status.idle": "2021-12-03T06:20:14.897713Z",
          "shell.execute_reply.started": "2021-12-03T06:20:13.874663Z",
          "shell.execute_reply": "2021-12-03T06:20:14.896977Z"
        },
        "trusted": true
      },
      "source": [
        "import shap"
      ],
      "execution_count": null,
      "outputs": []
    },
    {
      "cell_type": "code",
      "metadata": {
        "id": "smQM0O4hrv2y",
        "execution": {
          "iopub.status.busy": "2021-12-03T06:20:14.899029Z",
          "iopub.execute_input": "2021-12-03T06:20:14.899302Z",
          "iopub.status.idle": "2021-12-03T06:20:19.439919Z",
          "shell.execute_reply.started": "2021-12-03T06:20:14.899269Z",
          "shell.execute_reply": "2021-12-03T06:20:19.439146Z"
        },
        "trusted": true
      },
      "source": [
        "explainer = shap.TreeExplainer(model)\n",
        "shap_values = explainer.shap_values(full_features[\"tr\"][FTS_COLS])"
      ],
      "execution_count": null,
      "outputs": []
    },
    {
      "cell_type": "code",
      "metadata": {
        "id": "qni8j8mSsixx",
        "execution": {
          "iopub.status.busy": "2021-12-03T06:20:19.441317Z",
          "iopub.execute_input": "2021-12-03T06:20:19.441564Z",
          "iopub.status.idle": "2021-12-03T06:20:20.924398Z",
          "shell.execute_reply.started": "2021-12-03T06:20:19.441530Z",
          "shell.execute_reply": "2021-12-03T06:20:20.923705Z"
        },
        "trusted": true
      },
      "source": [
        "shap.summary_plot(shap_values, full_features[\"tr\"][FTS_COLS])"
      ],
      "execution_count": null,
      "outputs": []
    },
    {
      "cell_type": "code",
      "metadata": {
        "id": "XzLX0NFD3W1Z",
        "execution": {
          "iopub.status.busy": "2021-12-03T06:20:20.925372Z",
          "iopub.execute_input": "2021-12-03T06:20:20.925592Z",
          "iopub.status.idle": "2021-12-03T06:20:20.989136Z",
          "shell.execute_reply.started": "2021-12-03T06:20:20.925561Z",
          "shell.execute_reply": "2021-12-03T06:20:20.988493Z"
        },
        "trusted": true
      },
      "source": [
        "tr_preds =  10**(model.predict(full_features[\"tr\"][FTS_COLS]))-1\n",
        "val_preds = 10**(model.predict(full_features[\"val\"][FTS_COLS]))-1\n",
        "ts_preds =  10**(model.predict(full_features[\"ts\"][FTS_COLS]))-1"
      ],
      "execution_count": null,
      "outputs": []
    },
    {
      "cell_type": "code",
      "metadata": {
        "id": "88JN_xtypumd",
        "execution": {
          "iopub.status.busy": "2021-12-03T06:20:20.990301Z",
          "iopub.execute_input": "2021-12-03T06:20:20.990549Z",
          "iopub.status.idle": "2021-12-03T06:20:20.998399Z",
          "shell.execute_reply.started": "2021-12-03T06:20:20.990515Z",
          "shell.execute_reply": "2021-12-03T06:20:20.997740Z"
        },
        "trusted": true
      },
      "source": [
        "tr_preds[tr_preds < 0] = 0\n",
        "val_preds[val_preds < 0] = 0\n",
        "ts_preds[ts_preds < 0] = 0"
      ],
      "execution_count": null,
      "outputs": []
    },
    {
      "cell_type": "code",
      "source": [
        "print(\"Ошибка на тренировочном множестве:\",\n",
        "      f'{np.sqrt(mean_squared_log_error(tr_target, tr_preds)):.4f}')"
      ],
      "metadata": {
        "colab": {
          "base_uri": "https://localhost:8080/"
        },
        "id": "VRe4lUlZsDLT",
        "outputId": "12f1baf7-942f-4066-d951-b8b5d6fef2fd"
      },
      "execution_count": null,
      "outputs": [
        {
          "output_type": "stream",
          "name": "stdout",
          "text": [
            "Ошибка на тренировочном множестве: 2.0002\n"
          ]
        }
      ]
    },
    {
      "cell_type": "code",
      "metadata": {
        "colab": {
          "base_uri": "https://localhost:8080/"
        },
        "id": "uTSWXN36Tkz_",
        "outputId": "797d16be-83d9-44d9-bd52-32500c68c6dd"
      },
      "source": [
        "print(\"Ошибка на тренировочном множестве:\",\n",
        "      f'{np.sqrt(mean_squared_log_error(10**(full_features[\"tr\"][TARGET])-1, tr_preds)):.4f}')\n",
        "print(\"Ошибка на валидационном множестве:\",\n",
        "      f'{np.sqrt(mean_squared_log_error(10**(full_features[\"val\"][TARGET])-1, val_preds)):.4f}')\n",
        "print(\"Ошибка на тестовом множестве:\",\n",
        "      f'{np.sqrt(mean_squared_log_error(10**(full_features[\"ts\"][TARGET])-1, ts_preds)):.4f}')"
      ],
      "execution_count": null,
      "outputs": [
        {
          "output_type": "stream",
          "name": "stdout",
          "text": [
            "Ошибка на тренировочном множестве: 1.4401\n",
            "Ошибка на валидационном множестве: 1.5422\n",
            "Ошибка на тестовом множестве: 1.7329\n"
          ]
        }
      ]
    },
    {
      "cell_type": "code",
      "metadata": {
        "id": "-0ZP5y0O3W1Z",
        "execution": {
          "iopub.status.busy": "2021-12-03T06:20:21.346642Z",
          "iopub.execute_input": "2021-12-03T06:20:21.347391Z",
          "iopub.status.idle": "2021-12-03T06:20:21.360753Z",
          "shell.execute_reply.started": "2021-12-03T06:20:21.347352Z",
          "shell.execute_reply": "2021-12-03T06:20:21.359539Z"
        },
        "trusted": true,
        "colab": {
          "base_uri": "https://localhost:8080/"
        },
        "outputId": "e7b02d25-d61c-49d4-f5c0-6dd1d50492ff"
      },
      "source": [
        "print(\"Ошибка на тренировочном множестве:\",\n",
        "      f'{np.sqrt(mean_squared_log_error(np.expm1(full_features[\"tr\"][TARGET]), tr_preds)):.4f}')\n",
        "print(\"Ошибка на валидационном множестве:\",\n",
        "      f'{np.sqrt(mean_squared_log_error(np.expm1(full_features[\"val\"][TARGET]), val_preds)):.4f}')\n",
        "print(\"Ошибка на тестовом множестве:\",\n",
        "      f'{np.sqrt(mean_squared_log_error(np.expm1(full_features[\"ts\"][TARGET]), ts_preds)):.4f}')"
      ],
      "execution_count": null,
      "outputs": [
        {
          "output_type": "stream",
          "name": "stdout",
          "text": [
            "Ошибка на тренировочном множестве: 1.4532\n",
            "Ошибка на валидационном множестве: 1.5413\n",
            "Ошибка на тестовом множестве: 1.7357\n"
          ]
        }
      ]
    },
    {
      "cell_type": "code",
      "metadata": {
        "colab": {
          "base_uri": "https://localhost:8080/"
        },
        "id": "kZWHKBxCDHyE",
        "outputId": "01cc9c4c-35ba-43dc-c2b4-45760b19498a"
      },
      "source": [
        "tr_preds"
      ],
      "execution_count": null,
      "outputs": [
        {
          "output_type": "execute_result",
          "data": {
            "text/plain": [
              "array([199.65940492,   0.78275935,   4.79231874, ...,  49.00672545,\n",
              "       107.08542836,   6.70915285])"
            ]
          },
          "metadata": {},
          "execution_count": 64
        }
      ]
    },
    {
      "cell_type": "markdown",
      "metadata": {
        "id": "RigpDLMZJe0q"
      },
      "source": [
        "# STACKING"
      ]
    },
    {
      "cell_type": "code",
      "metadata": {
        "id": "yBK3oMa2J56i"
      },
      "source": [
        "from sklearn.ensemble import StackingRegressor\n",
        "from sklearn.preprocessing import LabelEncoder, OrdinalEncoder\n",
        "from sklearn.ensemble import RandomForestRegressor\n",
        "from lightgbm import LGBMRegressor\n",
        "from catboost import CatBoostRegressor\n",
        "from sklearn.model_selection import cross_val_score\n",
        "from sklearn.linear_model import BayesianRidge, LinearRegression"
      ],
      "execution_count": 18,
      "outputs": []
    },
    {
      "cell_type": "code",
      "metadata": {
        "colab": {
          "base_uri": "https://localhost:8080/"
        },
        "id": "cUQCsWBz5pth",
        "outputId": "48ae4f91-2f0d-48a6-93b2-07b8b2be0b6e"
      },
      "source": [
        "pip install --upgrade xgboost"
      ],
      "execution_count": 19,
      "outputs": [
        {
          "output_type": "stream",
          "name": "stdout",
          "text": [
            "Requirement already satisfied: xgboost in /usr/local/lib/python3.7/dist-packages (0.90)\n",
            "Collecting xgboost\n",
            "  Downloading xgboost-1.5.1-py3-none-manylinux2014_x86_64.whl (173.5 MB)\n",
            "\u001b[K     |████████████████████████████████| 173.5 MB 13 kB/s \n",
            "\u001b[?25hRequirement already satisfied: scipy in /usr/local/lib/python3.7/dist-packages (from xgboost) (1.4.1)\n",
            "Requirement already satisfied: numpy in /usr/local/lib/python3.7/dist-packages (from xgboost) (1.19.5)\n",
            "Installing collected packages: xgboost\n",
            "  Attempting uninstall: xgboost\n",
            "    Found existing installation: xgboost 0.90\n",
            "    Uninstalling xgboost-0.90:\n",
            "      Successfully uninstalled xgboost-0.90\n",
            "Successfully installed xgboost-1.5.1\n"
          ]
        }
      ]
    },
    {
      "cell_type": "code",
      "metadata": {
        "id": "nHApkbDE6wtA"
      },
      "source": [
        "from xgboost import XGBRegressor"
      ],
      "execution_count": 20,
      "outputs": []
    },
    {
      "cell_type": "code",
      "metadata": {
        "id": "050yYHtm7J_6"
      },
      "source": [
        "CAT_COLS = [\"material_code\", \"company_code\", \"country\", \"region\", \"manager_code\", \"month\"]\n",
        "FTS_COLS = [\"material_code\", \"company_code\", \"country\", \"region\", \"manager_code\", \"month\",\n",
        "            \"vol_tm6\", \"vol_tm5\", \"vol_tm4\", \"vol_tm3\", \"vol_tm2\", \"vol_tm1\", \"season\",\n",
        "            \"last_six_avg\", \"last_six_min\", \"last_six_max\",\"last_six_med\",\n",
        "            \"last_3_avg\", \"last_3_min\", \"last_3_max\", \"last_3_med\",\n",
        "            \"last_12_avg\", \"last_12_min\", \"last_12_max\", \"last_12_med\",\n",
        "            \"vol_tm6_diff\",\"vol_tm5_diff\", \"vol_tm4_diff\", \"vol_tm3_diff\", \"vol_tm2_diff\",\n",
        "            \"vol_tm6_diff_last\",\"vol_tm5_diff_last\", \"vol_tm4_diff_last\", \"vol_tm3_diff_last\", \"vol_tm2_diff_last\",\n",
        "            \"e1\",\"e2\"]\n",
        "TARGET = \"target\""
      ],
      "execution_count": 21,
      "outputs": []
    },
    {
      "cell_type": "code",
      "metadata": {
        "id": "5T5PagQT7yzS"
      },
      "source": [
        "xgb =  XGBRegressor(random_state = RS,n_estimators = 90, eta = 0.05, reg_alpha = 40, reg_lambda = 0.1,\n",
        "                                colsample_bytree = 0.6, subsample  = 1)\n",
        "lgb = LGBMRegressor(\n",
        "                                random_state = RS, learning_rate = 0.05,\n",
        "                                 max_depth = 3, metric = 'rmse', num_leaves =  7, \n",
        "                                 n_estimators = 90)\n",
        "\n",
        "cat = CatBoostRegressor(logging_level = 'Silent', random_state = RS, depth = 9, learning_rate = 0.02, iterations = 180)"
      ],
      "execution_count": 22,
      "outputs": []
    },
    {
      "cell_type": "code",
      "metadata": {
        "id": "vnRSPDoMaS2P"
      },
      "source": [
        "lin = LinearRegression()\n",
        "bay = BayesianRidge()"
      ],
      "execution_count": 23,
      "outputs": []
    },
    {
      "cell_type": "code",
      "metadata": {
        "id": "15Ld3hc_JjJi"
      },
      "source": [
        "estimators = [\n",
        "('XGB',xgb),\n",
        "('Bayes', cat),\n",
        "('Light', lgb),\n",
        "]\n",
        "stack_gen = StackingRegressor(estimators=estimators, final_estimator = bay)"
      ],
      "execution_count": 24,
      "outputs": []
    },
    {
      "cell_type": "code",
      "metadata": {
        "id": "dGbM1_t5MSMU"
      },
      "source": [
        "le = LabelEncoder()\n",
        "full_features[\"tr\"]['region'] = le.fit_transform(full_features[\"tr\"]['region'])\n",
        "full_features[\"tr\"]['country'] = le.fit_transform(full_features[\"tr\"]['country'])\n",
        "full_features[\"val\"]['region'] = le.fit_transform(full_features[\"val\"]['region'])\n",
        "full_features[\"val\"]['country'] = le.fit_transform(full_features[\"val\"]['country'])\n",
        "full_features[\"ts\"]['region'] = le.fit_transform(full_features[\"ts\"]['region'])\n",
        "full_features[\"ts\"]['country'] = le.fit_transform(full_features[\"ts\"]['country'])"
      ],
      "execution_count": 25,
      "outputs": []
    },
    {
      "cell_type": "code",
      "metadata": {
        "colab": {
          "base_uri": "https://localhost:8080/"
        },
        "id": "a-Bt8uYocUMU",
        "outputId": "f8fc1558-34d3-4ff9-9950-1217faf1ee36"
      },
      "source": [
        "stack_gen.fit(full_features[\"tr\"][FTS_COLS], full_features[\"tr\"][TARGET])"
      ],
      "execution_count": 26,
      "outputs": [
        {
          "output_type": "execute_result",
          "data": {
            "text/plain": [
              "StackingRegressor(estimators=[('XGB',\n",
              "                               XGBRegressor(base_score=None, booster=None,\n",
              "                                            colsample_bylevel=None,\n",
              "                                            colsample_bynode=None,\n",
              "                                            colsample_bytree=0.6,\n",
              "                                            enable_categorical=False, eta=0.05,\n",
              "                                            gamma=None, gpu_id=None,\n",
              "                                            importance_type=None,\n",
              "                                            interaction_constraints=None,\n",
              "                                            learning_rate=None,\n",
              "                                            max_delta_step=None, max_depth=None,\n",
              "                                            min_child_weight=None, missing=nan,\n",
              "                                            monotone_c...\n",
              "                                            predictor=None, random_state=79736,\n",
              "                                            reg_alpha=40, reg_lambda=0.1,\n",
              "                                            scale_pos_weight=None, subsample=1,\n",
              "                                            tree_method=None,\n",
              "                                            validate_parameters=None,\n",
              "                                            verbosity=None)),\n",
              "                              ('Bayes',\n",
              "                               <catboost.core.CatBoostRegressor object at 0x7f26b98293d0>),\n",
              "                              ('Light',\n",
              "                               LGBMRegressor(learning_rate=0.05, max_depth=3,\n",
              "                                             metric='rmse', n_estimators=90,\n",
              "                                             num_leaves=7,\n",
              "                                             random_state=79736))],\n",
              "                  final_estimator=BayesianRidge())"
            ]
          },
          "metadata": {},
          "execution_count": 26
        }
      ]
    },
    {
      "cell_type": "code",
      "metadata": {
        "id": "KpcibUNQoDAd"
      },
      "source": [
        "tr_preds =  (10**(stack_gen.predict(full_features[\"tr\"][FTS_COLS]))-1)\n",
        "val_preds = (10**(stack_gen.predict(full_features[\"val\"][FTS_COLS]))-1)\n",
        "ts_preds =  (10**(stack_gen.predict(full_features[\"ts\"][FTS_COLS]))-1)\n",
        "tr_preds[tr_preds < 0] = 0\n",
        "val_preds[val_preds < 0] = 0\n",
        "ts_preds[ts_preds < 0] = 0"
      ],
      "execution_count": 27,
      "outputs": []
    },
    {
      "cell_type": "code",
      "metadata": {
        "colab": {
          "base_uri": "https://localhost:8080/"
        },
        "id": "k-7QUNS7Z3mr",
        "outputId": "4b685de9-5635-4449-e80d-f74d4016d16a"
      },
      "source": [
        "tr_preds"
      ],
      "execution_count": 28,
      "outputs": [
        {
          "output_type": "execute_result",
          "data": {
            "text/plain": [
              "array([183.56149943,   0.57774847,   3.03492295, ...,  57.07145553,\n",
              "       121.15160393,   5.23986242])"
            ]
          },
          "metadata": {},
          "execution_count": 28
        }
      ]
    },
    {
      "cell_type": "code",
      "source": [
        "print(\"Ошибка на тренировочном множестве:\",\n",
        "      f'{np.sqrt(mean_squared_log_error(10**(full_features[\"tr\"][TARGET])-1, tr_preds)):.4f}')\n",
        "print(\"Ошибка на валидационном множестве:\",\n",
        "      f'{np.sqrt(mean_squared_log_error(10**(full_features[\"val\"][TARGET])-1, val_preds)):.4f}')\n",
        "print(\"Ошибка на тестовом множестве:\",\n",
        "      f'{np.sqrt(mean_squared_log_error(10**(full_features[\"ts\"][TARGET])-1, ts_preds)):.4f}')"
      ],
      "metadata": {
        "colab": {
          "base_uri": "https://localhost:8080/"
        },
        "id": "ov5J48d7uwSo",
        "outputId": "a2d30fc2-d1c5-470b-c2ac-c4316e4ebaa9"
      },
      "execution_count": 29,
      "outputs": [
        {
          "output_type": "stream",
          "name": "stdout",
          "text": [
            "Ошибка на тренировочном множестве: 1.3581\n",
            "Ошибка на валидационном множестве: 1.5458\n",
            "Ошибка на тестовом множестве: 1.7321\n"
          ]
        }
      ]
    },
    {
      "cell_type": "code",
      "metadata": {
        "colab": {
          "base_uri": "https://localhost:8080/"
        },
        "id": "PFSgEjU4oKT6",
        "outputId": "4ba6ed97-7610-4353-a219-62a565083caa"
      },
      "source": [
        "print(\"Ошибка на тренировочном множестве:\",\n",
        "      f'{np.sqrt(mean_squared_log_error(np.expm1(full_features[\"tr\"][TARGET]), tr_preds)):.4f}')\n",
        "print(\"Ошибка на валидационном множестве:\",\n",
        "      f'{np.sqrt(mean_squared_log_error(np.expm1(full_features[\"val\"][TARGET]), val_preds)):.4f}')\n",
        "print(\"Ошибка на тестовом множестве:\",\n",
        "      f'{np.sqrt(mean_squared_log_error(np.expm1(full_features[\"ts\"][TARGET]), ts_preds)):.4f}')"
      ],
      "execution_count": null,
      "outputs": [
        {
          "output_type": "stream",
          "name": "stdout",
          "text": [
            "Ошибка на тренировочном множестве: 1.3667\n",
            "Ошибка на валидационном множестве: 1.5422\n",
            "Ошибка на тестовом множестве: 1.7318\n"
          ]
        }
      ]
    },
    {
      "cell_type": "code",
      "metadata": {
        "colab": {
          "base_uri": "https://localhost:8080/"
        },
        "id": "KJwQE7FB5Vr5",
        "outputId": "5d6b0d9a-5968-46ff-8bbd-7189cf53f4be"
      },
      "source": [
        "print(\"Ошибка на тренировочном множестве:\",\n",
        "      f'{np.sqrt(mean_squared_log_error(np.expm1(full_features[\"tr\"][TARGET]), tr_preds)):.4f}')\n",
        "print(\"Ошибка на валидационном множестве:\",\n",
        "      f'{np.sqrt(mean_squared_log_error(np.expm1(full_features[\"val\"][TARGET]), val_preds)):.4f}')\n",
        "print(\"Ошибка на тестовом множестве:\",\n",
        "      f'{np.sqrt(mean_squared_log_error(np.expm1(full_features[\"ts\"][TARGET]), ts_preds)):.4f}')"
      ],
      "execution_count": null,
      "outputs": [
        {
          "output_type": "stream",
          "name": "stdout",
          "text": [
            "Ошибка на тренировочном множестве: 1.3666\n",
            "Ошибка на валидационном множестве: 1.5486\n",
            "Ошибка на тестовом множестве: 1.7339\n"
          ]
        }
      ]
    },
    {
      "cell_type": "code",
      "metadata": {
        "id": "0PFYyQBxo6Hy"
      },
      "source": [
        "import joblib"
      ],
      "execution_count": 30,
      "outputs": []
    },
    {
      "cell_type": "code",
      "metadata": {
        "colab": {
          "base_uri": "https://localhost:8080/"
        },
        "id": "MGubWnCHVHcT",
        "outputId": "b28ab186-d5c8-4f97-eed3-b141e15a572b"
      },
      "source": [
        "joblib.dump(stack_gen,'pipe_with_stack.pkl')"
      ],
      "execution_count": 31,
      "outputs": [
        {
          "output_type": "execute_result",
          "data": {
            "text/plain": [
              "['pipe_with_stack.pkl']"
            ]
          },
          "metadata": {},
          "execution_count": 31
        }
      ]
    },
    {
      "cell_type": "markdown",
      "metadata": {
        "id": "1rO9VqMmp6kH"
      },
      "source": [
        "# Выгрузка stack"
      ]
    },
    {
      "cell_type": "code",
      "metadata": {
        "colab": {
          "base_uri": "https://localhost:8080/"
        },
        "id": "c3k_RGD_p83e",
        "outputId": "3957ef6e-a3cb-4a54-8d02-75934d3d8323"
      },
      "source": [
        "%%writefile predict.py\n",
        "\n",
        "import pathlib\n",
        "import pandas as pd\n",
        "import math\n",
        "import numpy as np\n",
        "from catboost import CatBoostRegressor\n",
        "from sklearn.preprocessing import LabelEncoder\n",
        "from sklearn.pipeline import Pipeline\n",
        "import joblib\n",
        "\n",
        "MODEL_FILE = pathlib.Path(__file__).parent.joinpath(\"pipe_with_stack.pkl\")\n",
        "AGG_COLS = [\"material_code\", \"company_code\", \"country\", \"region\", \"manager_code\"]\n",
        "\n",
        "def get_features_(df: pd.DataFrame, month: pd.Timestamp) -> pd.DataFrame:\n",
        "    \"\"\"Вычисление признаков для `month`.\"\"\"\n",
        "\n",
        "    start_period = month - pd.offsets.MonthBegin(6)\n",
        "    end_period = month - pd.offsets.MonthBegin(1)\n",
        "\n",
        "    df = df.loc[:, :end_period]\n",
        "\n",
        "    features = pd.DataFrame([], index=df.index)\n",
        "    features[\"month\"] = month.month\n",
        "    features[[f\"vol_tm{i}\" for i in range(6, 0, -1)]] = df.loc[:, start_period:end_period].copy()\n",
        "\n",
        "    features[\"vol_tm2_diff\"] = features[\"vol_tm1\"] - features[\"vol_tm2\"]\n",
        "    features[\"vol_tm3_diff\"] = features[\"vol_tm2\"] - features[\"vol_tm3\"]\n",
        "    features[\"vol_tm4_diff\"] = features[\"vol_tm3\"] - features[\"vol_tm4\"]\n",
        "    features[\"vol_tm5_diff\"] = features[\"vol_tm4\"] - features[\"vol_tm5\"]\n",
        "    features[\"vol_tm6_diff\"] = features[\"vol_tm5\"] - features[\"vol_tm6\"]  \n",
        "\n",
        "    features[\"vol_tm2_diff_last\"] = features[\"vol_tm1\"] - features[\"vol_tm2\"]\n",
        "    features[\"vol_tm3_diff_last\"] = features[\"vol_tm1\"] - features[\"vol_tm3\"]\n",
        "    features[\"vol_tm4_diff_last\"] = features[\"vol_tm1\"] - features[\"vol_tm4\"]\n",
        "    features[\"vol_tm5_diff_last\"] = features[\"vol_tm1\"] - features[\"vol_tm5\"]\n",
        "    features[\"vol_tm6_diff_last\"] = features[\"vol_tm1\"] - features[\"vol_tm6\"]\n",
        "         \n",
        "\n",
        "    if month.month in [3,4,5]:\n",
        "        features[\"season\"] = 1\n",
        "    elif month.month in [6,7,8]:\n",
        "        features[\"season\"] = 2\n",
        "    elif month.month in [9,10,11]:\n",
        "        features[\"season\"] = 3\n",
        "    else:\n",
        "        features[\"season\"] = 4              \n",
        "  \n",
        "    \n",
        "    rolling = df.rolling(6, axis=1, min_periods=1)\n",
        "    features = features.join(rolling.median().iloc[:, -1].rename(\"last_six_med\"))\n",
        "    features = features.join(rolling.mean().iloc[:, -1].rename(\"last_six_avg\"))\n",
        "    features = features.join(rolling.min().iloc[:, -1].rename(\"last_six_min\"))\n",
        "    features = features.join(rolling.max().iloc[:, -1].rename(\"last_six_max\"))    \n",
        "\n",
        "    rolling = df.rolling(3, axis=1, min_periods=1)\n",
        "    features = features.join(rolling.median().iloc[:, -1].rename(\"last_3_med\"))\n",
        "    features = features.join(rolling.mean().iloc[:, -1].rename(\"last_3_avg\"))\n",
        "    features = features.join(rolling.min().iloc[:, -1].rename(\"last_3_min\"))\n",
        "    features = features.join(rolling.max().iloc[:, -1].rename(\"last_3_max\"))        \n",
        "\n",
        "    rolling = df.rolling(12, axis=1, min_periods=1)\n",
        "    features = features.join(rolling.median().iloc[:, -1].rename(\"last_12_med\"))\n",
        "    features = features.join(rolling.mean().iloc[:, -1].rename(\"last_12_avg\"))\n",
        "    features = features.join(rolling.min().iloc[:, -1].rename(\"last_12_min\"))\n",
        "    features = features.join(rolling.max().iloc[:, -1].rename(\"last_12_max\"))  \n",
        "\n",
        "\n",
        "    features[\"month\"] = month.month\n",
        "    \n",
        "    return features.reset_index()\n",
        "\n",
        "\n",
        "def predict(df: pd.DataFrame, month: pd.Timestamp) -> pd.DataFrame:\n",
        "\n",
        "    group_ts = df.groupby(AGG_COLS + [\"month\"])[\"volume\"].sum().unstack(fill_value=0)\n",
        "    # логарифмируем (выручку + 1)\n",
        "    for i in range(0,941):\n",
        "        group_ts.iloc[i] = np.log10(group_ts.iloc[i]+1)  \n",
        "    features = get_features_(group_ts, month)\n",
        "\n",
        "    le1 = LabelEncoder()\n",
        "    features['region'] = le1.fit_transform(features['region'])\n",
        "    le2 = LabelEncoder()\n",
        "    features['country'] = le2.fit_transform(features['country'])\n",
        "\n",
        "    FTS_COLS = [\"material_code\", \"company_code\", \"country\", \"region\", \"manager_code\", \"month\",\n",
        "                \"vol_tm6\", \"vol_tm5\", \"vol_tm4\", \"vol_tm3\", \"vol_tm2\", \"vol_tm1\", \"season\",\n",
        "                \"last_six_avg\", \"last_six_min\", \"last_six_max\",\"last_six_med\",\n",
        "                \"last_3_avg\", \"last_3_min\", \"last_3_max\", \"last_3_med\",\n",
        "                \"last_12_avg\", \"last_12_min\", \"last_12_max\", \"last_12_med\",\n",
        "                \"vol_tm6_diff\",\"vol_tm5_diff\", \"vol_tm4_diff\", \"vol_tm3_diff\", \"vol_tm2_diff\",\n",
        "                \"vol_tm6_diff_last\",\"vol_tm5_diff_last\", \"vol_tm4_diff_last\", \"vol_tm3_diff_last\", \"vol_tm2_diff_last\"]\n",
        "\n",
        "    model = joblib.load(MODEL_FILE)\n",
        "    predictions = model.predict(features[FTS_COLS])\n",
        "    preds_df = features[AGG_COLS].copy()\n",
        "    preds_df['region'] = le1.inverse_transform(preds_df['region'])\n",
        "    preds_df['country'] = le2.inverse_transform(preds_df['country'])    \n",
        "    preds_df[\"prediction\"] = 10**(predictions) - 1\n",
        "    return preds_df\n",
        "    "
      ],
      "execution_count": 38,
      "outputs": [
        {
          "output_type": "stream",
          "name": "stdout",
          "text": [
            "Overwriting predict.py\n"
          ]
        }
      ]
    },
    {
      "cell_type": "code",
      "metadata": {
        "id": "BQY2ukvirhQk"
      },
      "source": [
        "import predict"
      ],
      "execution_count": 33,
      "outputs": []
    },
    {
      "cell_type": "code",
      "metadata": {
        "colab": {
          "base_uri": "https://localhost:8080/",
          "height": 565
        },
        "id": "b5-FE6Z2qXkd",
        "outputId": "edbbf2bc-1eac-49bd-ae13-bc2b6cb9182f"
      },
      "source": [
        "predict.get_features_(group_ts.iloc[:, :-1], pd.Timestamp(\"2020-07-01\"))"
      ],
      "execution_count": 34,
      "outputs": [
        {
          "output_type": "execute_result",
          "data": {
            "text/html": [
              "<div>\n",
              "<style scoped>\n",
              "    .dataframe tbody tr th:only-of-type {\n",
              "        vertical-align: middle;\n",
              "    }\n",
              "\n",
              "    .dataframe tbody tr th {\n",
              "        vertical-align: top;\n",
              "    }\n",
              "\n",
              "    .dataframe thead th {\n",
              "        text-align: right;\n",
              "    }\n",
              "</style>\n",
              "<table border=\"1\" class=\"dataframe\">\n",
              "  <thead>\n",
              "    <tr style=\"text-align: right;\">\n",
              "      <th></th>\n",
              "      <th>material_code</th>\n",
              "      <th>company_code</th>\n",
              "      <th>country</th>\n",
              "      <th>region</th>\n",
              "      <th>manager_code</th>\n",
              "      <th>month</th>\n",
              "      <th>vol_tm6</th>\n",
              "      <th>vol_tm5</th>\n",
              "      <th>vol_tm4</th>\n",
              "      <th>vol_tm3</th>\n",
              "      <th>vol_tm2</th>\n",
              "      <th>vol_tm1</th>\n",
              "      <th>vol_tm2_diff</th>\n",
              "      <th>vol_tm3_diff</th>\n",
              "      <th>vol_tm4_diff</th>\n",
              "      <th>vol_tm5_diff</th>\n",
              "      <th>vol_tm6_diff</th>\n",
              "      <th>vol_tm2_diff_last</th>\n",
              "      <th>vol_tm3_diff_last</th>\n",
              "      <th>vol_tm4_diff_last</th>\n",
              "      <th>vol_tm5_diff_last</th>\n",
              "      <th>vol_tm6_diff_last</th>\n",
              "      <th>season</th>\n",
              "      <th>last_six_med</th>\n",
              "      <th>last_six_avg</th>\n",
              "      <th>last_six_min</th>\n",
              "      <th>last_six_max</th>\n",
              "      <th>last_3_med</th>\n",
              "      <th>last_3_avg</th>\n",
              "      <th>last_3_min</th>\n",
              "      <th>last_3_max</th>\n",
              "      <th>last_12_med</th>\n",
              "      <th>last_12_avg</th>\n",
              "      <th>last_12_min</th>\n",
              "      <th>last_12_max</th>\n",
              "      <th>e1</th>\n",
              "      <th>e2</th>\n",
              "      <th>count0_last_year</th>\n",
              "    </tr>\n",
              "  </thead>\n",
              "  <tbody>\n",
              "    <tr>\n",
              "      <th>0</th>\n",
              "      <td>124</td>\n",
              "      <td>7278</td>\n",
              "      <td>Россия</td>\n",
              "      <td>Респ. Татарстан</td>\n",
              "      <td>17460</td>\n",
              "      <td>7</td>\n",
              "      <td>0.000000</td>\n",
              "      <td>0.000000</td>\n",
              "      <td>0.000000</td>\n",
              "      <td>0.000000</td>\n",
              "      <td>0.000000</td>\n",
              "      <td>0.000000</td>\n",
              "      <td>0.000000</td>\n",
              "      <td>0.000000</td>\n",
              "      <td>0.000000</td>\n",
              "      <td>0.000000</td>\n",
              "      <td>0.000000</td>\n",
              "      <td>0.000000</td>\n",
              "      <td>0.000000</td>\n",
              "      <td>0.000000</td>\n",
              "      <td>0.000000</td>\n",
              "      <td>0.000000</td>\n",
              "      <td>2</td>\n",
              "      <td>0.000000</td>\n",
              "      <td>0.000000</td>\n",
              "      <td>0.000000</td>\n",
              "      <td>0.000000</td>\n",
              "      <td>0.000000</td>\n",
              "      <td>0.000000</td>\n",
              "      <td>0.000000</td>\n",
              "      <td>0.000000</td>\n",
              "      <td>0.000000</td>\n",
              "      <td>2.590520e-16</td>\n",
              "      <td>0.000000</td>\n",
              "      <td>0.000000</td>\n",
              "      <td>0.000000</td>\n",
              "      <td>0.000000</td>\n",
              "      <td>0</td>\n",
              "    </tr>\n",
              "    <tr>\n",
              "      <th>1</th>\n",
              "      <td>133</td>\n",
              "      <td>0</td>\n",
              "      <td>Белоруссия</td>\n",
              "      <td>Минская обл.</td>\n",
              "      <td>10942</td>\n",
              "      <td>7</td>\n",
              "      <td>1.255273</td>\n",
              "      <td>1.863323</td>\n",
              "      <td>2.399674</td>\n",
              "      <td>2.596597</td>\n",
              "      <td>2.460898</td>\n",
              "      <td>2.324282</td>\n",
              "      <td>-0.136615</td>\n",
              "      <td>-0.135699</td>\n",
              "      <td>0.196923</td>\n",
              "      <td>0.536351</td>\n",
              "      <td>0.608050</td>\n",
              "      <td>-0.136615</td>\n",
              "      <td>-0.272315</td>\n",
              "      <td>-0.075391</td>\n",
              "      <td>0.460960</td>\n",
              "      <td>1.069010</td>\n",
              "      <td>2</td>\n",
              "      <td>2.361978</td>\n",
              "      <td>2.150008</td>\n",
              "      <td>1.255273</td>\n",
              "      <td>2.596597</td>\n",
              "      <td>2.460898</td>\n",
              "      <td>2.460592</td>\n",
              "      <td>2.324282</td>\n",
              "      <td>2.596597</td>\n",
              "      <td>2.289067</td>\n",
              "      <td>2.154911e+00</td>\n",
              "      <td>1.255273</td>\n",
              "      <td>2.596597</td>\n",
              "      <td>2.187667</td>\n",
              "      <td>2.187667</td>\n",
              "      <td>12</td>\n",
              "    </tr>\n",
              "    <tr>\n",
              "      <th>2</th>\n",
              "      <td>133</td>\n",
              "      <td>0</td>\n",
              "      <td>Белоруссия</td>\n",
              "      <td>Могилевская обл.</td>\n",
              "      <td>10942</td>\n",
              "      <td>7</td>\n",
              "      <td>0.000000</td>\n",
              "      <td>0.000000</td>\n",
              "      <td>0.000000</td>\n",
              "      <td>2.222716</td>\n",
              "      <td>1.799341</td>\n",
              "      <td>0.000000</td>\n",
              "      <td>-1.799341</td>\n",
              "      <td>-0.423376</td>\n",
              "      <td>2.222716</td>\n",
              "      <td>0.000000</td>\n",
              "      <td>0.000000</td>\n",
              "      <td>-1.799341</td>\n",
              "      <td>-2.222716</td>\n",
              "      <td>0.000000</td>\n",
              "      <td>0.000000</td>\n",
              "      <td>0.000000</td>\n",
              "      <td>2</td>\n",
              "      <td>0.000000</td>\n",
              "      <td>0.670343</td>\n",
              "      <td>0.000000</td>\n",
              "      <td>2.222716</td>\n",
              "      <td>1.799341</td>\n",
              "      <td>1.340686</td>\n",
              "      <td>0.000000</td>\n",
              "      <td>2.222716</td>\n",
              "      <td>0.000000</td>\n",
              "      <td>3.351714e-01</td>\n",
              "      <td>0.000000</td>\n",
              "      <td>2.222716</td>\n",
              "      <td>-1.799341</td>\n",
              "      <td>-1.799341</td>\n",
              "      <td>2</td>\n",
              "    </tr>\n",
              "    <tr>\n",
              "      <th>3</th>\n",
              "      <td>133</td>\n",
              "      <td>0</td>\n",
              "      <td>Белоруссия</td>\n",
              "      <td>г. Минск</td>\n",
              "      <td>10942</td>\n",
              "      <td>7</td>\n",
              "      <td>0.000000</td>\n",
              "      <td>0.000000</td>\n",
              "      <td>0.000000</td>\n",
              "      <td>1.342423</td>\n",
              "      <td>0.000000</td>\n",
              "      <td>0.000000</td>\n",
              "      <td>0.000000</td>\n",
              "      <td>-1.342423</td>\n",
              "      <td>1.342423</td>\n",
              "      <td>0.000000</td>\n",
              "      <td>0.000000</td>\n",
              "      <td>0.000000</td>\n",
              "      <td>-1.342423</td>\n",
              "      <td>0.000000</td>\n",
              "      <td>0.000000</td>\n",
              "      <td>0.000000</td>\n",
              "      <td>2</td>\n",
              "      <td>0.000000</td>\n",
              "      <td>0.223737</td>\n",
              "      <td>0.000000</td>\n",
              "      <td>1.342423</td>\n",
              "      <td>0.000000</td>\n",
              "      <td>0.447474</td>\n",
              "      <td>0.000000</td>\n",
              "      <td>1.342423</td>\n",
              "      <td>0.000000</td>\n",
              "      <td>7.035415e-01</td>\n",
              "      <td>0.000000</td>\n",
              "      <td>1.924279</td>\n",
              "      <td>0.000000</td>\n",
              "      <td>0.000000</td>\n",
              "      <td>5</td>\n",
              "    </tr>\n",
              "    <tr>\n",
              "      <th>4</th>\n",
              "      <td>133</td>\n",
              "      <td>0</td>\n",
              "      <td>Казахстан</td>\n",
              "      <td>г. Нур-Султан</td>\n",
              "      <td>13301</td>\n",
              "      <td>7</td>\n",
              "      <td>0.000000</td>\n",
              "      <td>1.707570</td>\n",
              "      <td>1.612784</td>\n",
              "      <td>0.000000</td>\n",
              "      <td>0.000000</td>\n",
              "      <td>1.707570</td>\n",
              "      <td>1.707570</td>\n",
              "      <td>0.000000</td>\n",
              "      <td>-1.612784</td>\n",
              "      <td>-0.094786</td>\n",
              "      <td>1.707570</td>\n",
              "      <td>1.707570</td>\n",
              "      <td>1.707570</td>\n",
              "      <td>0.094786</td>\n",
              "      <td>0.000000</td>\n",
              "      <td>1.707570</td>\n",
              "      <td>2</td>\n",
              "      <td>0.806392</td>\n",
              "      <td>0.837987</td>\n",
              "      <td>0.000000</td>\n",
              "      <td>1.707570</td>\n",
              "      <td>0.000000</td>\n",
              "      <td>0.569190</td>\n",
              "      <td>0.000000</td>\n",
              "      <td>1.707570</td>\n",
              "      <td>1.612784</td>\n",
              "      <td>1.107215e+00</td>\n",
              "      <td>0.000000</td>\n",
              "      <td>1.707570</td>\n",
              "      <td>3.415140</td>\n",
              "      <td>3.415140</td>\n",
              "      <td>8</td>\n",
              "    </tr>\n",
              "    <tr>\n",
              "      <th>...</th>\n",
              "      <td>...</td>\n",
              "      <td>...</td>\n",
              "      <td>...</td>\n",
              "      <td>...</td>\n",
              "      <td>...</td>\n",
              "      <td>...</td>\n",
              "      <td>...</td>\n",
              "      <td>...</td>\n",
              "      <td>...</td>\n",
              "      <td>...</td>\n",
              "      <td>...</td>\n",
              "      <td>...</td>\n",
              "      <td>...</td>\n",
              "      <td>...</td>\n",
              "      <td>...</td>\n",
              "      <td>...</td>\n",
              "      <td>...</td>\n",
              "      <td>...</td>\n",
              "      <td>...</td>\n",
              "      <td>...</td>\n",
              "      <td>...</td>\n",
              "      <td>...</td>\n",
              "      <td>...</td>\n",
              "      <td>...</td>\n",
              "      <td>...</td>\n",
              "      <td>...</td>\n",
              "      <td>...</td>\n",
              "      <td>...</td>\n",
              "      <td>...</td>\n",
              "      <td>...</td>\n",
              "      <td>...</td>\n",
              "      <td>...</td>\n",
              "      <td>...</td>\n",
              "      <td>...</td>\n",
              "      <td>...</td>\n",
              "      <td>...</td>\n",
              "      <td>...</td>\n",
              "      <td>...</td>\n",
              "    </tr>\n",
              "    <tr>\n",
              "      <th>936</th>\n",
              "      <td>986</td>\n",
              "      <td>9943</td>\n",
              "      <td>Россия</td>\n",
              "      <td>Смоленская обл.</td>\n",
              "      <td>17460</td>\n",
              "      <td>7</td>\n",
              "      <td>0.000000</td>\n",
              "      <td>1.342423</td>\n",
              "      <td>1.806180</td>\n",
              "      <td>2.100371</td>\n",
              "      <td>1.929419</td>\n",
              "      <td>1.929419</td>\n",
              "      <td>0.000000</td>\n",
              "      <td>-0.170952</td>\n",
              "      <td>0.294191</td>\n",
              "      <td>0.463757</td>\n",
              "      <td>1.342423</td>\n",
              "      <td>0.000000</td>\n",
              "      <td>-0.170952</td>\n",
              "      <td>0.123239</td>\n",
              "      <td>0.586996</td>\n",
              "      <td>1.929419</td>\n",
              "      <td>2</td>\n",
              "      <td>1.867799</td>\n",
              "      <td>1.517969</td>\n",
              "      <td>0.000000</td>\n",
              "      <td>2.100371</td>\n",
              "      <td>1.929419</td>\n",
              "      <td>1.986403</td>\n",
              "      <td>1.929419</td>\n",
              "      <td>2.100371</td>\n",
              "      <td>0.000000</td>\n",
              "      <td>7.589843e-01</td>\n",
              "      <td>0.000000</td>\n",
              "      <td>2.100371</td>\n",
              "      <td>1.929419</td>\n",
              "      <td>1.929419</td>\n",
              "      <td>5</td>\n",
              "    </tr>\n",
              "    <tr>\n",
              "      <th>937</th>\n",
              "      <td>998</td>\n",
              "      <td>0</td>\n",
              "      <td>Россия</td>\n",
              "      <td>Ленинградская обл.</td>\n",
              "      <td>18079</td>\n",
              "      <td>7</td>\n",
              "      <td>0.778151</td>\n",
              "      <td>0.778151</td>\n",
              "      <td>0.778151</td>\n",
              "      <td>0.000000</td>\n",
              "      <td>0.602060</td>\n",
              "      <td>0.602060</td>\n",
              "      <td>0.000000</td>\n",
              "      <td>0.602060</td>\n",
              "      <td>-0.778151</td>\n",
              "      <td>0.000000</td>\n",
              "      <td>0.000000</td>\n",
              "      <td>0.000000</td>\n",
              "      <td>0.602060</td>\n",
              "      <td>-0.176091</td>\n",
              "      <td>-0.176091</td>\n",
              "      <td>-0.176091</td>\n",
              "      <td>2</td>\n",
              "      <td>0.690106</td>\n",
              "      <td>0.589762</td>\n",
              "      <td>0.000000</td>\n",
              "      <td>0.778151</td>\n",
              "      <td>0.602060</td>\n",
              "      <td>0.401373</td>\n",
              "      <td>0.000000</td>\n",
              "      <td>0.602060</td>\n",
              "      <td>0.778151</td>\n",
              "      <td>6.685633e-01</td>\n",
              "      <td>0.000000</td>\n",
              "      <td>1.041393</td>\n",
              "      <td>0.602060</td>\n",
              "      <td>0.602060</td>\n",
              "      <td>10</td>\n",
              "    </tr>\n",
              "    <tr>\n",
              "      <th>938</th>\n",
              "      <td>998</td>\n",
              "      <td>3380</td>\n",
              "      <td>Россия</td>\n",
              "      <td>Ленинградская обл.</td>\n",
              "      <td>14956</td>\n",
              "      <td>7</td>\n",
              "      <td>1.869232</td>\n",
              "      <td>1.875061</td>\n",
              "      <td>2.089905</td>\n",
              "      <td>2.004321</td>\n",
              "      <td>1.204120</td>\n",
              "      <td>1.491362</td>\n",
              "      <td>0.287242</td>\n",
              "      <td>-0.800201</td>\n",
              "      <td>-0.085584</td>\n",
              "      <td>0.214844</td>\n",
              "      <td>0.005830</td>\n",
              "      <td>0.287242</td>\n",
              "      <td>-0.512960</td>\n",
              "      <td>-0.598543</td>\n",
              "      <td>-0.383700</td>\n",
              "      <td>-0.377870</td>\n",
              "      <td>2</td>\n",
              "      <td>1.872146</td>\n",
              "      <td>1.755667</td>\n",
              "      <td>1.204120</td>\n",
              "      <td>2.089905</td>\n",
              "      <td>1.491362</td>\n",
              "      <td>1.566601</td>\n",
              "      <td>1.204120</td>\n",
              "      <td>2.004321</td>\n",
              "      <td>2.008579</td>\n",
              "      <td>1.863384e+00</td>\n",
              "      <td>1.204120</td>\n",
              "      <td>2.113943</td>\n",
              "      <td>1.778603</td>\n",
              "      <td>1.778603</td>\n",
              "      <td>12</td>\n",
              "    </tr>\n",
              "    <tr>\n",
              "      <th>939</th>\n",
              "      <td>998</td>\n",
              "      <td>5410</td>\n",
              "      <td>Россия</td>\n",
              "      <td>г. Санкт-Петербург</td>\n",
              "      <td>14956</td>\n",
              "      <td>7</td>\n",
              "      <td>2.004321</td>\n",
              "      <td>2.257679</td>\n",
              "      <td>2.257679</td>\n",
              "      <td>2.004321</td>\n",
              "      <td>2.149219</td>\n",
              "      <td>1.612784</td>\n",
              "      <td>-0.536435</td>\n",
              "      <td>0.144898</td>\n",
              "      <td>-0.253357</td>\n",
              "      <td>0.000000</td>\n",
              "      <td>0.253357</td>\n",
              "      <td>-0.536435</td>\n",
              "      <td>-0.391538</td>\n",
              "      <td>-0.644895</td>\n",
              "      <td>-0.644895</td>\n",
              "      <td>-0.391538</td>\n",
              "      <td>2</td>\n",
              "      <td>2.076770</td>\n",
              "      <td>2.047667</td>\n",
              "      <td>1.612784</td>\n",
              "      <td>2.257679</td>\n",
              "      <td>2.004321</td>\n",
              "      <td>1.922108</td>\n",
              "      <td>1.612784</td>\n",
              "      <td>2.149219</td>\n",
              "      <td>2.082785</td>\n",
              "      <td>2.049699e+00</td>\n",
              "      <td>1.612784</td>\n",
              "      <td>2.257679</td>\n",
              "      <td>1.076349</td>\n",
              "      <td>1.076349</td>\n",
              "      <td>12</td>\n",
              "    </tr>\n",
              "    <tr>\n",
              "      <th>940</th>\n",
              "      <td>998</td>\n",
              "      <td>6346</td>\n",
              "      <td>Россия</td>\n",
              "      <td>Респ. Башкортостан</td>\n",
              "      <td>10737</td>\n",
              "      <td>7</td>\n",
              "      <td>1.612784</td>\n",
              "      <td>0.000000</td>\n",
              "      <td>1.322219</td>\n",
              "      <td>1.612784</td>\n",
              "      <td>1.322219</td>\n",
              "      <td>1.342423</td>\n",
              "      <td>0.020203</td>\n",
              "      <td>-0.290565</td>\n",
              "      <td>0.290565</td>\n",
              "      <td>1.322219</td>\n",
              "      <td>-1.612784</td>\n",
              "      <td>0.020203</td>\n",
              "      <td>-0.270361</td>\n",
              "      <td>0.020203</td>\n",
              "      <td>1.342423</td>\n",
              "      <td>-0.270361</td>\n",
              "      <td>2</td>\n",
              "      <td>1.332321</td>\n",
              "      <td>1.202071</td>\n",
              "      <td>0.000000</td>\n",
              "      <td>1.612784</td>\n",
              "      <td>1.342423</td>\n",
              "      <td>1.425809</td>\n",
              "      <td>1.322219</td>\n",
              "      <td>1.612784</td>\n",
              "      <td>1.332321</td>\n",
              "      <td>1.224602e+00</td>\n",
              "      <td>0.000000</td>\n",
              "      <td>1.612784</td>\n",
              "      <td>1.362626</td>\n",
              "      <td>1.362626</td>\n",
              "      <td>10</td>\n",
              "    </tr>\n",
              "  </tbody>\n",
              "</table>\n",
              "<p>941 rows × 38 columns</p>\n",
              "</div>"
            ],
            "text/plain": [
              "     material_code  company_code  ...        e2 count0_last_year\n",
              "0              124          7278  ...  0.000000                0\n",
              "1              133             0  ...  2.187667               12\n",
              "2              133             0  ... -1.799341                2\n",
              "3              133             0  ...  0.000000                5\n",
              "4              133             0  ...  3.415140                8\n",
              "..             ...           ...  ...       ...              ...\n",
              "936            986          9943  ...  1.929419                5\n",
              "937            998             0  ...  0.602060               10\n",
              "938            998          3380  ...  1.778603               12\n",
              "939            998          5410  ...  1.076349               12\n",
              "940            998          6346  ...  1.362626               10\n",
              "\n",
              "[941 rows x 38 columns]"
            ]
          },
          "metadata": {},
          "execution_count": 34
        }
      ]
    },
    {
      "cell_type": "code",
      "metadata": {
        "id": "sfMc2CVdqvDf"
      },
      "source": [
        "pred = predict.predict(data[data.month<\"2020-07-01\"], pd.Timestamp(\"2020-07-01\"))"
      ],
      "execution_count": 35,
      "outputs": []
    },
    {
      "cell_type": "code",
      "metadata": {
        "colab": {
          "base_uri": "https://localhost:8080/",
          "height": 423
        },
        "id": "xr_TwZ1K9YBm",
        "outputId": "048a0025-a779-4825-9fca-6ff91b7a0da6"
      },
      "source": [
        "pred"
      ],
      "execution_count": 36,
      "outputs": [
        {
          "output_type": "execute_result",
          "data": {
            "text/html": [
              "<div>\n",
              "<style scoped>\n",
              "    .dataframe tbody tr th:only-of-type {\n",
              "        vertical-align: middle;\n",
              "    }\n",
              "\n",
              "    .dataframe tbody tr th {\n",
              "        vertical-align: top;\n",
              "    }\n",
              "\n",
              "    .dataframe thead th {\n",
              "        text-align: right;\n",
              "    }\n",
              "</style>\n",
              "<table border=\"1\" class=\"dataframe\">\n",
              "  <thead>\n",
              "    <tr style=\"text-align: right;\">\n",
              "      <th></th>\n",
              "      <th>material_code</th>\n",
              "      <th>company_code</th>\n",
              "      <th>country</th>\n",
              "      <th>region</th>\n",
              "      <th>manager_code</th>\n",
              "      <th>prediction</th>\n",
              "    </tr>\n",
              "  </thead>\n",
              "  <tbody>\n",
              "    <tr>\n",
              "      <th>0</th>\n",
              "      <td>124</td>\n",
              "      <td>7278</td>\n",
              "      <td>Россия</td>\n",
              "      <td>Респ. Татарстан</td>\n",
              "      <td>17460</td>\n",
              "      <td>0.577028</td>\n",
              "    </tr>\n",
              "    <tr>\n",
              "      <th>1</th>\n",
              "      <td>133</td>\n",
              "      <td>0</td>\n",
              "      <td>Белоруссия</td>\n",
              "      <td>Минская обл.</td>\n",
              "      <td>10942</td>\n",
              "      <td>155.510155</td>\n",
              "    </tr>\n",
              "    <tr>\n",
              "      <th>2</th>\n",
              "      <td>133</td>\n",
              "      <td>0</td>\n",
              "      <td>Белоруссия</td>\n",
              "      <td>Могилевская обл.</td>\n",
              "      <td>10942</td>\n",
              "      <td>4.892725</td>\n",
              "    </tr>\n",
              "    <tr>\n",
              "      <th>3</th>\n",
              "      <td>133</td>\n",
              "      <td>0</td>\n",
              "      <td>Белоруссия</td>\n",
              "      <td>г. Минск</td>\n",
              "      <td>10942</td>\n",
              "      <td>2.393048</td>\n",
              "    </tr>\n",
              "    <tr>\n",
              "      <th>4</th>\n",
              "      <td>133</td>\n",
              "      <td>0</td>\n",
              "      <td>Казахстан</td>\n",
              "      <td>г. Нур-Султан</td>\n",
              "      <td>13301</td>\n",
              "      <td>11.928198</td>\n",
              "    </tr>\n",
              "    <tr>\n",
              "      <th>...</th>\n",
              "      <td>...</td>\n",
              "      <td>...</td>\n",
              "      <td>...</td>\n",
              "      <td>...</td>\n",
              "      <td>...</td>\n",
              "      <td>...</td>\n",
              "    </tr>\n",
              "    <tr>\n",
              "      <th>936</th>\n",
              "      <td>986</td>\n",
              "      <td>9943</td>\n",
              "      <td>Россия</td>\n",
              "      <td>Смоленская обл.</td>\n",
              "      <td>17460</td>\n",
              "      <td>45.410039</td>\n",
              "    </tr>\n",
              "    <tr>\n",
              "      <th>937</th>\n",
              "      <td>998</td>\n",
              "      <td>0</td>\n",
              "      <td>Россия</td>\n",
              "      <td>Ленинградская обл.</td>\n",
              "      <td>18079</td>\n",
              "      <td>2.377297</td>\n",
              "    </tr>\n",
              "    <tr>\n",
              "      <th>938</th>\n",
              "      <td>998</td>\n",
              "      <td>3380</td>\n",
              "      <td>Россия</td>\n",
              "      <td>Ленинградская обл.</td>\n",
              "      <td>14956</td>\n",
              "      <td>32.842219</td>\n",
              "    </tr>\n",
              "    <tr>\n",
              "      <th>939</th>\n",
              "      <td>998</td>\n",
              "      <td>5410</td>\n",
              "      <td>Россия</td>\n",
              "      <td>г. Санкт-Петербург</td>\n",
              "      <td>14956</td>\n",
              "      <td>57.914278</td>\n",
              "    </tr>\n",
              "    <tr>\n",
              "      <th>940</th>\n",
              "      <td>998</td>\n",
              "      <td>6346</td>\n",
              "      <td>Россия</td>\n",
              "      <td>Респ. Башкортостан</td>\n",
              "      <td>10737</td>\n",
              "      <td>12.837890</td>\n",
              "    </tr>\n",
              "  </tbody>\n",
              "</table>\n",
              "<p>941 rows × 6 columns</p>\n",
              "</div>"
            ],
            "text/plain": [
              "     material_code  company_code  ... manager_code  prediction\n",
              "0              124          7278  ...        17460    0.577028\n",
              "1              133             0  ...        10942  155.510155\n",
              "2              133             0  ...        10942    4.892725\n",
              "3              133             0  ...        10942    2.393048\n",
              "4              133             0  ...        13301   11.928198\n",
              "..             ...           ...  ...          ...         ...\n",
              "936            986          9943  ...        17460   45.410039\n",
              "937            998             0  ...        18079    2.377297\n",
              "938            998          3380  ...        14956   32.842219\n",
              "939            998          5410  ...        14956   57.914278\n",
              "940            998          6346  ...        10737   12.837890\n",
              "\n",
              "[941 rows x 6 columns]"
            ]
          },
          "metadata": {},
          "execution_count": 36
        }
      ]
    },
    {
      "cell_type": "markdown",
      "metadata": {
        "id": "IZsVYtej17ZV"
      },
      "source": [
        "# Tuning CATBOOST"
      ]
    },
    {
      "cell_type": "code",
      "metadata": {
        "id": "P277iSwQ17ZW",
        "execution": {
          "iopub.status.busy": "2021-12-03T06:20:40.227661Z",
          "iopub.execute_input": "2021-12-03T06:20:40.230865Z",
          "iopub.status.idle": "2021-12-03T06:20:40.234720Z",
          "shell.execute_reply.started": "2021-12-03T06:20:40.230814Z",
          "shell.execute_reply": "2021-12-03T06:20:40.234022Z"
        },
        "trusted": true
      },
      "source": [
        "from sklearn.model_selection import RandomizedSearchCV, GridSearchCV\n",
        "from sklearn.model_selection import RepeatedKFold, KFold"
      ],
      "execution_count": null,
      "outputs": []
    },
    {
      "cell_type": "code",
      "metadata": {
        "id": "u81wUGj717ZW",
        "execution": {
          "iopub.status.busy": "2021-12-03T06:20:40.771251Z",
          "iopub.execute_input": "2021-12-03T06:20:40.771952Z",
          "iopub.status.idle": "2021-12-03T06:20:40.779301Z",
          "shell.execute_reply.started": "2021-12-03T06:20:40.771917Z",
          "shell.execute_reply": "2021-12-03T06:20:40.778544Z"
        },
        "trusted": true
      },
      "source": [
        "cv = RepeatedKFold(n_repeats = 3,n_splits = 5, random_state = 42)\n",
        "params = { \"learning_rate\": np.linspace(0,0.2,10),\n",
        "               \"depth\": np.arange(4, 11)}"
      ],
      "execution_count": null,
      "outputs": []
    },
    {
      "cell_type": "code",
      "metadata": {
        "id": "97BOwLAY17ZX",
        "trusted": true
      },
      "source": [
        "%%time\n",
        "\n",
        "clf = RandomizedSearchCV(CatBoostRegressor(\n",
        "                          early_stopping_rounds=30,\n",
        "                          cat_features=CAT_COLS,\n",
        "                          random_state=RS,\n",
        "                          verbose=10),\n",
        "                           params,\n",
        "                            cv = cv)\n",
        "\n",
        "\n",
        "clf.fit(full_features[\"tr\"][FTS_COLS], full_features[\"tr\"][TARGET],\n",
        "          eval_set=(full_features[\"val\"][FTS_COLS], full_features[\"val\"][TARGET]))"
      ],
      "execution_count": null,
      "outputs": []
    },
    {
      "cell_type": "code",
      "metadata": {
        "id": "skHP04YZTCws",
        "trusted": true
      },
      "source": [
        "print(clf.best_params_)\n",
        "print(clf.best_score_)"
      ],
      "execution_count": null,
      "outputs": []
    },
    {
      "cell_type": "markdown",
      "metadata": {
        "id": "UVgcBDC0oyyF"
      },
      "source": [
        "# Подбор числа деревьев:"
      ]
    },
    {
      "cell_type": "code",
      "metadata": {
        "trusted": true,
        "id": "LXCM_Yr-oyyF"
      },
      "source": [
        "%%time\n",
        "cv = KFold(n_splits = 5, random_state = 42, shuffle = True)\n",
        "from sklearn.model_selection import validation_curve\n",
        "train_scores_iter, valid_scores_iter = validation_curve(\n",
        "        CatBoostRegressor(task_type = 'GPU',\n",
        "                          cat_features=CAT_COLS,\n",
        "                          random_state=RS,\n",
        "                          verbose=10),\n",
        "                          full_features[\"tr\"][FTS_COLS], full_features[\"tr\"][TARGET], # обучусь тут, потом проверю на validation\n",
        "                            param_name=\"iterations\",\n",
        "                             param_range=np.arange(1, 1002, 10),cv=cv)"
      ],
      "execution_count": null,
      "outputs": []
    },
    {
      "cell_type": "markdown",
      "metadata": {
        "id": "DOyUzcIboyyG"
      },
      "source": [
        "Качество на valid:"
      ]
    },
    {
      "cell_type": "code",
      "metadata": {
        "execution": {
          "iopub.status.busy": "2021-12-03T06:49:07.028626Z",
          "iopub.execute_input": "2021-12-03T06:49:07.029598Z",
          "iopub.status.idle": "2021-12-03T06:49:20.067039Z",
          "shell.execute_reply.started": "2021-12-03T06:49:07.029553Z",
          "shell.execute_reply": "2021-12-03T06:49:20.066412Z"
        },
        "trusted": true,
        "id": "sRPg5owSoyyG"
      },
      "source": [
        "%%time\n",
        "model = CatBoostRegressor(task_type = 'GPU',\n",
        "                          iterations = 500,\n",
        "                          cat_features=CAT_COLS,\n",
        "                          random_state=RS,\n",
        "                          verbose=100)\n",
        "model.fit(full_features[\"tr\"][FTS_COLS], full_features[\"tr\"][TARGET],\n",
        "          eval_set=(full_features[\"val\"][FTS_COLS], full_features[\"val\"][TARGET]))\n",
        "preds = model.predict(full_features[\"val\"][FTS_COLS])\n",
        "print(\"Ошибка на valid множестве:\",\n",
        "      f'{np.sqrt(mean_squared_error(np.expm1(full_features[\"val\"][TARGET]), preds)):.4f}')"
      ],
      "execution_count": null,
      "outputs": []
    },
    {
      "cell_type": "markdown",
      "metadata": {
        "id": "cVSFZVqgoyyH"
      },
      "source": [
        "Лучшее = 500, далее lr:"
      ]
    },
    {
      "cell_type": "code",
      "metadata": {
        "execution": {
          "iopub.status.busy": "2021-12-03T06:52:03.635672Z",
          "iopub.execute_input": "2021-12-03T06:52:03.635947Z",
          "iopub.status.idle": "2021-12-03T07:47:15.370269Z",
          "shell.execute_reply.started": "2021-12-03T06:52:03.635914Z",
          "shell.execute_reply": "2021-12-03T07:47:15.369530Z"
        },
        "trusted": true,
        "id": "DknAiweToyyI"
      },
      "source": [
        "%%time\n",
        "cv = KFold(n_splits = 5, random_state = 42, shuffle = True)\n",
        "from sklearn.model_selection import validation_curve\n",
        "train_scores, valid_scores = validation_curve(\n",
        "        CatBoostRegressor(task_type = 'GPU',\n",
        "                          iterations = 500,\n",
        "                          cat_features=CAT_COLS,\n",
        "                          random_state=RS,\n",
        "                          verbose=100,\n",
        "                         loss_function='RMSE'),\n",
        "                          full_features[\"tr\"][FTS_COLS], full_features[\"tr\"][TARGET], # обучусь тут, потом проверю на validation\n",
        "                            param_name=\"learning_rate\",\n",
        "                             param_range=np.linspace(0.001, 0.1, 50),cv=cv)"
      ],
      "execution_count": null,
      "outputs": []
    },
    {
      "cell_type": "code",
      "metadata": {
        "execution": {
          "iopub.status.busy": "2021-12-03T07:47:15.374708Z",
          "iopub.execute_input": "2021-12-03T07:47:15.375285Z",
          "iopub.status.idle": "2021-12-03T07:47:15.682248Z",
          "shell.execute_reply.started": "2021-12-03T07:47:15.375240Z",
          "shell.execute_reply": "2021-12-03T07:47:15.681590Z"
        },
        "trusted": true,
        "id": "qYamDPb6oyyI"
      },
      "source": [
        "lr_range=np.linspace(0.001, 0.1, 50)\n",
        "plt.plot(lr_range,np.mean(train_scores, axis = 1))\n",
        "plt.plot(lr_range,np.mean(valid_scores, axis = 1))\n",
        "plt.legend(['Train error', 'Valid error'])"
      ],
      "execution_count": null,
      "outputs": []
    },
    {
      "cell_type": "code",
      "metadata": {
        "trusted": true,
        "id": "_fLEsJXIoyyJ"
      },
      "source": [
        "iter_range=np.arange(100, 1001, 100)\n",
        "plt.plot(iter_range,np.mean(train_scores_iter, axis = 1))\n",
        "plt.plot(iter_range,np.mean(valid_scores_iter, axis = 1))"
      ],
      "execution_count": null,
      "outputs": []
    },
    {
      "cell_type": "code",
      "metadata": {
        "trusted": true,
        "id": "a9Mj4y2WoyyJ"
      },
      "source": [
        "np.mean(train_scores, axis = 1)"
      ],
      "execution_count": null,
      "outputs": []
    }
  ]
}